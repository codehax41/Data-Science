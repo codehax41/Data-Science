{
 "cells": [
  {
   "cell_type": "markdown",
   "metadata": {},
   "source": [
    "# print statement"
   ]
  },
  {
   "cell_type": "code",
   "execution_count": 1,
   "metadata": {},
   "outputs": [],
   "source": [
    "string1='world'"
   ]
  },
  {
   "cell_type": "code",
   "execution_count": 2,
   "metadata": {},
   "outputs": [
    {
     "name": "stdout",
     "output_type": "stream",
     "text": [
      "hello world\n"
     ]
    }
   ],
   "source": [
    "print('hello',string1)"
   ]
  },
  {
   "cell_type": "code",
   "execution_count": 3,
   "metadata": {},
   "outputs": [],
   "source": [
    "string2='!'"
   ]
  },
  {
   "cell_type": "code",
   "execution_count": 4,
   "metadata": {},
   "outputs": [
    {
     "name": "stdout",
     "output_type": "stream",
     "text": [
      "hello world !\n"
     ]
    }
   ],
   "source": [
    "print('hello',string1,string2)#for space"
   ]
  },
  {
   "cell_type": "code",
   "execution_count": 5,
   "metadata": {},
   "outputs": [
    {
     "name": "stdout",
     "output_type": "stream",
     "text": [
      "helloworld!\n"
     ]
    }
   ],
   "source": [
    "print('hello'+string1+string2)#no space"
   ]
  },
  {
   "cell_type": "code",
   "execution_count": 6,
   "metadata": {},
   "outputs": [
    {
     "name": "stdout",
     "output_type": "stream",
     "text": [
      "actual number=18\n"
     ]
    }
   ],
   "source": [
    "print('actual number=%d'%18)"
   ]
  },
  {
   "cell_type": "code",
   "execution_count": 7,
   "metadata": {},
   "outputs": [
    {
     "name": "stdout",
     "output_type": "stream",
     "text": [
      "float number=18.000000\n"
     ]
    }
   ],
   "source": [
    "print('float number=%f'%18)"
   ]
  },
  {
   "cell_type": "code",
   "execution_count": 8,
   "metadata": {},
   "outputs": [
    {
     "name": "stdout",
     "output_type": "stream",
     "text": [
      "helloworld!\n"
     ]
    }
   ],
   "source": [
    "print('hello%s%s'%(string1,string2))"
   ]
  },
  {
   "cell_type": "code",
   "execution_count": 9,
   "metadata": {},
   "outputs": [
    {
     "name": "stdout",
     "output_type": "stream",
     "text": [
      "_A_A_A_A_A_A_A_A_A_A\n"
     ]
    }
   ],
   "source": [
    "print('_A'*10)"
   ]
  },
  {
   "cell_type": "code",
   "execution_count": 10,
   "metadata": {},
   "outputs": [
    {
     "name": "stdout",
     "output_type": "stream",
     "text": [
      "jan\n",
      "feb\n",
      "mar\n",
      "apr\n",
      "\n"
     ]
    }
   ],
   "source": [
    "print('jan\\nfeb\\nmar\\napr\\n')"
   ]
  },
  {
   "cell_type": "code",
   "execution_count": 11,
   "metadata": {},
   "outputs": [
    {
     "name": "stdout",
     "output_type": "stream",
     "text": [
      "0    1\n",
      "1    2\n",
      "2    3\n",
      "3    4\n",
      "4    5\n",
      "dtype: int64\n"
     ]
    }
   ],
   "source": [
    "import pandas as pd\n",
    "import numpy as np\n",
    "s=pd.Series([1,2,3,4,5])\n",
    "print(s)"
   ]
  },
  {
   "cell_type": "code",
   "execution_count": 12,
   "metadata": {},
   "outputs": [
    {
     "name": "stdout",
     "output_type": "stream",
     "text": [
      "       Name   Age\n",
      "0      Alex  1000\n",
      "1      Arcx  1040\n",
      "2     Faltu  1500\n",
      "3  Alescdsx  4000\n",
      "4    Alfdex  5000\n"
     ]
    }
   ],
   "source": [
    "import pandas as pd\n",
    "import numpy as np\n",
    "data=[['Alex',1000],['Arcx',1040],['Faltu',1500],['Alescdsx',4000],['Alfdex',5000]]\n",
    "s=pd.DataFrame(data, columns=['Name', 'Age'])\n",
    "print (s)"
   ]
  },
  {
   "cell_type": "code",
   "execution_count": 13,
   "metadata": {},
   "outputs": [
    {
     "data": {
      "text/plain": [
       "one    3\n",
       "two    7\n",
       "Name: c, dtype: int64"
      ]
     },
     "execution_count": 13,
     "metadata": {},
     "output_type": "execute_result"
    }
   ],
   "source": [
    "d={'one':pd.Series([1,2,3,4,5], index=['a','b','c','d','e']),\n",
    "    'two':pd.Series([5,6,7,8,9], index=['a','b','c','d','e'])}                                   \n",
    "df=pd.DataFrame(d)\n",
    "df.iloc[2]"
   ]
  },
  {
   "cell_type": "code",
   "execution_count": 14,
   "metadata": {},
   "outputs": [
    {
     "data": {
      "text/plain": [
       "one    1\n",
       "two    5\n",
       "Name: a, dtype: int64"
      ]
     },
     "execution_count": 14,
     "metadata": {},
     "output_type": "execute_result"
    }
   ],
   "source": [
    "df.loc['a']"
   ]
  },
  {
   "cell_type": "code",
   "execution_count": 15,
   "metadata": {},
   "outputs": [
    {
     "data": {
      "text/html": [
       "<div>\n",
       "<style scoped>\n",
       "    .dataframe tbody tr th:only-of-type {\n",
       "        vertical-align: middle;\n",
       "    }\n",
       "\n",
       "    .dataframe tbody tr th {\n",
       "        vertical-align: top;\n",
       "    }\n",
       "\n",
       "    .dataframe thead th {\n",
       "        text-align: right;\n",
       "    }\n",
       "</style>\n",
       "<table border=\"1\" class=\"dataframe\">\n",
       "  <thead>\n",
       "    <tr style=\"text-align: right;\">\n",
       "      <th></th>\n",
       "      <th>one</th>\n",
       "      <th>two</th>\n",
       "    </tr>\n",
       "  </thead>\n",
       "  <tbody>\n",
       "    <tr>\n",
       "      <th>a</th>\n",
       "      <td>1</td>\n",
       "      <td>5</td>\n",
       "    </tr>\n",
       "    <tr>\n",
       "      <th>b</th>\n",
       "      <td>2</td>\n",
       "      <td>6</td>\n",
       "    </tr>\n",
       "    <tr>\n",
       "      <th>c</th>\n",
       "      <td>3</td>\n",
       "      <td>7</td>\n",
       "    </tr>\n",
       "    <tr>\n",
       "      <th>d</th>\n",
       "      <td>4</td>\n",
       "      <td>8</td>\n",
       "    </tr>\n",
       "    <tr>\n",
       "      <th>e</th>\n",
       "      <td>5</td>\n",
       "      <td>9</td>\n",
       "    </tr>\n",
       "  </tbody>\n",
       "</table>\n",
       "</div>"
      ],
      "text/plain": [
       "   one  two\n",
       "a    1    5\n",
       "b    2    6\n",
       "c    3    7\n",
       "d    4    8\n",
       "e    5    9"
      ]
     },
     "execution_count": 15,
     "metadata": {},
     "output_type": "execute_result"
    }
   ],
   "source": [
    "df"
   ]
  },
  {
   "cell_type": "code",
   "execution_count": 16,
   "metadata": {},
   "outputs": [
    {
     "data": {
      "text/html": [
       "<div>\n",
       "<style scoped>\n",
       "    .dataframe tbody tr th:only-of-type {\n",
       "        vertical-align: middle;\n",
       "    }\n",
       "\n",
       "    .dataframe tbody tr th {\n",
       "        vertical-align: top;\n",
       "    }\n",
       "\n",
       "    .dataframe thead th {\n",
       "        text-align: right;\n",
       "    }\n",
       "</style>\n",
       "<table border=\"1\" class=\"dataframe\">\n",
       "  <thead>\n",
       "    <tr style=\"text-align: right;\">\n",
       "      <th></th>\n",
       "      <th>two</th>\n",
       "    </tr>\n",
       "  </thead>\n",
       "  <tbody>\n",
       "    <tr>\n",
       "      <th>a</th>\n",
       "      <td>5</td>\n",
       "    </tr>\n",
       "    <tr>\n",
       "      <th>b</th>\n",
       "      <td>6</td>\n",
       "    </tr>\n",
       "    <tr>\n",
       "      <th>c</th>\n",
       "      <td>7</td>\n",
       "    </tr>\n",
       "    <tr>\n",
       "      <th>d</th>\n",
       "      <td>8</td>\n",
       "    </tr>\n",
       "    <tr>\n",
       "      <th>e</th>\n",
       "      <td>9</td>\n",
       "    </tr>\n",
       "  </tbody>\n",
       "</table>\n",
       "</div>"
      ],
      "text/plain": [
       "   two\n",
       "a    5\n",
       "b    6\n",
       "c    7\n",
       "d    8\n",
       "e    9"
      ]
     },
     "execution_count": 16,
     "metadata": {},
     "output_type": "execute_result"
    }
   ],
   "source": [
    "df.drop('one', axis=1\n",
    "       )"
   ]
  },
  {
   "cell_type": "code",
   "execution_count": 17,
   "metadata": {},
   "outputs": [
    {
     "data": {
      "text/html": [
       "<div>\n",
       "<style scoped>\n",
       "    .dataframe tbody tr th:only-of-type {\n",
       "        vertical-align: middle;\n",
       "    }\n",
       "\n",
       "    .dataframe tbody tr th {\n",
       "        vertical-align: top;\n",
       "    }\n",
       "\n",
       "    .dataframe thead th {\n",
       "        text-align: right;\n",
       "    }\n",
       "</style>\n",
       "<table border=\"1\" class=\"dataframe\">\n",
       "  <thead>\n",
       "    <tr style=\"text-align: right;\">\n",
       "      <th></th>\n",
       "      <th>one</th>\n",
       "      <th>two</th>\n",
       "    </tr>\n",
       "  </thead>\n",
       "  <tbody>\n",
       "    <tr>\n",
       "      <th>b</th>\n",
       "      <td>2</td>\n",
       "      <td>6</td>\n",
       "    </tr>\n",
       "    <tr>\n",
       "      <th>c</th>\n",
       "      <td>3</td>\n",
       "      <td>7</td>\n",
       "    </tr>\n",
       "    <tr>\n",
       "      <th>d</th>\n",
       "      <td>4</td>\n",
       "      <td>8</td>\n",
       "    </tr>\n",
       "    <tr>\n",
       "      <th>e</th>\n",
       "      <td>5</td>\n",
       "      <td>9</td>\n",
       "    </tr>\n",
       "  </tbody>\n",
       "</table>\n",
       "</div>"
      ],
      "text/plain": [
       "   one  two\n",
       "b    2    6\n",
       "c    3    7\n",
       "d    4    8\n",
       "e    5    9"
      ]
     },
     "execution_count": 17,
     "metadata": {},
     "output_type": "execute_result"
    }
   ],
   "source": [
    "df.drop('a')"
   ]
  },
  {
   "cell_type": "code",
   "execution_count": 18,
   "metadata": {},
   "outputs": [
    {
     "name": "stdout",
     "output_type": "stream",
     "text": [
      "          A         B         C         D\n",
      "a  0.287160 -1.432645  0.053963 -0.095065\n",
      "b  0.468578  0.503358  0.368741  1.752064\n",
      "c  0.582055  0.106183 -0.287682 -1.738099\n",
      "d -0.980172  1.634451  1.505566  0.693538\n",
      "e -0.977462  0.573579 -1.067856  1.829195\n",
      "f -1.016149  1.477980 -0.393834 -0.193319\n",
      "g -0.095983 -0.973215  0.440398 -0.056604\n",
      "h  0.035723 -0.087230  0.583131 -0.470056\n"
     ]
    },
    {
     "data": {
      "text/html": [
       "<div>\n",
       "<style scoped>\n",
       "    .dataframe tbody tr th:only-of-type {\n",
       "        vertical-align: middle;\n",
       "    }\n",
       "\n",
       "    .dataframe tbody tr th {\n",
       "        vertical-align: top;\n",
       "    }\n",
       "\n",
       "    .dataframe thead th {\n",
       "        text-align: right;\n",
       "    }\n",
       "</style>\n",
       "<table border=\"1\" class=\"dataframe\">\n",
       "  <thead>\n",
       "    <tr style=\"text-align: right;\">\n",
       "      <th></th>\n",
       "      <th>A</th>\n",
       "      <th>B</th>\n",
       "    </tr>\n",
       "  </thead>\n",
       "  <tbody>\n",
       "    <tr>\n",
       "      <th>a</th>\n",
       "      <td>0.287160</td>\n",
       "      <td>-1.432645</td>\n",
       "    </tr>\n",
       "    <tr>\n",
       "      <th>b</th>\n",
       "      <td>0.468578</td>\n",
       "      <td>0.503358</td>\n",
       "    </tr>\n",
       "    <tr>\n",
       "      <th>c</th>\n",
       "      <td>0.582055</td>\n",
       "      <td>0.106183</td>\n",
       "    </tr>\n",
       "    <tr>\n",
       "      <th>d</th>\n",
       "      <td>-0.980172</td>\n",
       "      <td>1.634451</td>\n",
       "    </tr>\n",
       "    <tr>\n",
       "      <th>e</th>\n",
       "      <td>-0.977462</td>\n",
       "      <td>0.573579</td>\n",
       "    </tr>\n",
       "    <tr>\n",
       "      <th>f</th>\n",
       "      <td>-1.016149</td>\n",
       "      <td>1.477980</td>\n",
       "    </tr>\n",
       "    <tr>\n",
       "      <th>g</th>\n",
       "      <td>-0.095983</td>\n",
       "      <td>-0.973215</td>\n",
       "    </tr>\n",
       "    <tr>\n",
       "      <th>h</th>\n",
       "      <td>0.035723</td>\n",
       "      <td>-0.087230</td>\n",
       "    </tr>\n",
       "  </tbody>\n",
       "</table>\n",
       "</div>"
      ],
      "text/plain": [
       "          A         B\n",
       "a  0.287160 -1.432645\n",
       "b  0.468578  0.503358\n",
       "c  0.582055  0.106183\n",
       "d -0.980172  1.634451\n",
       "e -0.977462  0.573579\n",
       "f -1.016149  1.477980\n",
       "g -0.095983 -0.973215\n",
       "h  0.035723 -0.087230"
      ]
     },
     "execution_count": 18,
     "metadata": {},
     "output_type": "execute_result"
    }
   ],
   "source": [
    "import numpy as np\n",
    "import pandas as pd\n",
    "df=pd.DataFrame(np.random.randn(8,4),index=['a','b','c','d','e','f','g','h'], columns=['A','B','C','D'])\n",
    "print(df)\n",
    "df.loc[:,['A','B']]"
   ]
  },
  {
   "cell_type": "code",
   "execution_count": 19,
   "metadata": {},
   "outputs": [
    {
     "name": "stdout",
     "output_type": "stream",
     "text": [
      "          A         B         C         D\n",
      "a -0.010590 -1.963849 -0.309203 -1.262028\n",
      "b  0.008011 -0.270372  0.336760 -1.020229\n",
      "c  2.467003  0.100091 -0.371350 -0.264560\n",
      "d -0.296031  0.032959 -1.297304  0.623392\n",
      "e  1.826455  0.860884  0.847563  1.649315\n",
      "f -0.268436  1.524866 -0.184224  0.709528\n",
      "g -0.761388  0.187654 -0.533461 -0.234342\n",
      "h -0.317279 -0.050137 -0.382122 -1.040031\n"
     ]
    },
    {
     "data": {
      "text/html": [
       "<div>\n",
       "<style scoped>\n",
       "    .dataframe tbody tr th:only-of-type {\n",
       "        vertical-align: middle;\n",
       "    }\n",
       "\n",
       "    .dataframe tbody tr th {\n",
       "        vertical-align: top;\n",
       "    }\n",
       "\n",
       "    .dataframe thead th {\n",
       "        text-align: right;\n",
       "    }\n",
       "</style>\n",
       "<table border=\"1\" class=\"dataframe\">\n",
       "  <thead>\n",
       "    <tr style=\"text-align: right;\">\n",
       "      <th></th>\n",
       "      <th>A</th>\n",
       "      <th>B</th>\n",
       "    </tr>\n",
       "  </thead>\n",
       "  <tbody>\n",
       "    <tr>\n",
       "      <th>a</th>\n",
       "      <td>-0.010590</td>\n",
       "      <td>-1.963849</td>\n",
       "    </tr>\n",
       "    <tr>\n",
       "      <th>b</th>\n",
       "      <td>0.008011</td>\n",
       "      <td>-0.270372</td>\n",
       "    </tr>\n",
       "    <tr>\n",
       "      <th>c</th>\n",
       "      <td>2.467003</td>\n",
       "      <td>0.100091</td>\n",
       "    </tr>\n",
       "    <tr>\n",
       "      <th>d</th>\n",
       "      <td>-0.296031</td>\n",
       "      <td>0.032959</td>\n",
       "    </tr>\n",
       "  </tbody>\n",
       "</table>\n",
       "</div>"
      ],
      "text/plain": [
       "          A         B\n",
       "a -0.010590 -1.963849\n",
       "b  0.008011 -0.270372\n",
       "c  2.467003  0.100091\n",
       "d -0.296031  0.032959"
      ]
     },
     "execution_count": 19,
     "metadata": {},
     "output_type": "execute_result"
    }
   ],
   "source": [
    "import numpy as np\n",
    "import pandas as pd\n",
    "df=pd.DataFrame(np.random.randn(8,4),index=['a','b','c','d','e','f','g','h'], columns=['A','B','C','D'])\n",
    "print(df)\n",
    "df.loc[['a','b','c','d'],['A','B']]"
   ]
  },
  {
   "cell_type": "code",
   "execution_count": 20,
   "metadata": {},
   "outputs": [
    {
     "name": "stdout",
     "output_type": "stream",
     "text": [
      "          A         B         C         D\n",
      "a -0.719271 -0.801499 -0.793988 -1.238426\n",
      "b -1.195608 -1.529185  0.348624  1.038450\n",
      "c -0.089936  0.389394  0.076316 -0.686580\n",
      "d  1.387720  1.235519 -0.252310 -1.274019\n",
      "e  1.667619 -1.166068  1.024659 -0.207974\n",
      "f  2.163503 -0.047383  0.566431 -0.668838\n",
      "g -0.165947 -1.066001  0.285857 -0.968404\n",
      "h  0.988945  1.096208 -0.385281  0.204490\n"
     ]
    },
    {
     "data": {
      "text/html": [
       "<div>\n",
       "<style scoped>\n",
       "    .dataframe tbody tr th:only-of-type {\n",
       "        vertical-align: middle;\n",
       "    }\n",
       "\n",
       "    .dataframe tbody tr th {\n",
       "        vertical-align: top;\n",
       "    }\n",
       "\n",
       "    .dataframe thead th {\n",
       "        text-align: right;\n",
       "    }\n",
       "</style>\n",
       "<table border=\"1\" class=\"dataframe\">\n",
       "  <thead>\n",
       "    <tr style=\"text-align: right;\">\n",
       "      <th></th>\n",
       "      <th>A</th>\n",
       "      <th>B</th>\n",
       "      <th>C</th>\n",
       "      <th>D</th>\n",
       "    </tr>\n",
       "  </thead>\n",
       "  <tbody>\n",
       "    <tr>\n",
       "      <th>a</th>\n",
       "      <td>False</td>\n",
       "      <td>False</td>\n",
       "      <td>False</td>\n",
       "      <td>False</td>\n",
       "    </tr>\n",
       "    <tr>\n",
       "      <th>b</th>\n",
       "      <td>False</td>\n",
       "      <td>False</td>\n",
       "      <td>True</td>\n",
       "      <td>True</td>\n",
       "    </tr>\n",
       "    <tr>\n",
       "      <th>c</th>\n",
       "      <td>False</td>\n",
       "      <td>True</td>\n",
       "      <td>True</td>\n",
       "      <td>False</td>\n",
       "    </tr>\n",
       "    <tr>\n",
       "      <th>d</th>\n",
       "      <td>True</td>\n",
       "      <td>True</td>\n",
       "      <td>False</td>\n",
       "      <td>False</td>\n",
       "    </tr>\n",
       "  </tbody>\n",
       "</table>\n",
       "</div>"
      ],
      "text/plain": [
       "       A      B      C      D\n",
       "a  False  False  False  False\n",
       "b  False  False   True   True\n",
       "c  False   True   True  False\n",
       "d   True   True  False  False"
      ]
     },
     "execution_count": 20,
     "metadata": {},
     "output_type": "execute_result"
    }
   ],
   "source": [
    "import numpy as np\n",
    "import pandas as pd\n",
    "df=pd.DataFrame(np.random.randn(8,4),index=['a','b','c','d','e','f','g','h'], columns=['A','B','C','D'])\n",
    "print(df)\n",
    "df.loc['a':'d']>0"
   ]
  },
  {
   "cell_type": "code",
   "execution_count": 21,
   "metadata": {},
   "outputs": [
    {
     "name": "stdout",
     "output_type": "stream",
     "text": [
      "          A         B         C         D\n",
      "a  0.626606 -0.489713 -0.255545  0.547272\n",
      "b  1.225236 -0.363331 -0.489582  0.324406\n",
      "c -0.998092  1.991627  0.567110 -0.694437\n",
      "d  0.392780 -0.638818  0.007190  1.593209\n",
      "e -0.882995 -1.149199 -0.315001 -2.353806\n",
      "f -1.391026  1.704395 -0.355721 -0.049226\n",
      "g -1.552867 -0.783283  0.728859  0.539621\n",
      "h  0.460091 -0.065637 -0.967669 -0.446479\n",
      "          B         D\n",
      "b -0.363331  0.324406\n",
      "d -0.638818  1.593209\n",
      "f  1.704395 -0.049226\n",
      "          A         B         C         D\n",
      "b  1.225236 -0.363331 -0.489582  0.324406\n",
      "c -0.998092  1.991627  0.567110 -0.694437\n",
      "          B         C\n",
      "a -0.489713 -0.255545\n",
      "b -0.363331 -0.489582\n",
      "c  1.991627  0.567110\n",
      "d -0.638818  0.007190\n",
      "e -1.149199 -0.315001\n",
      "f  1.704395 -0.355721\n",
      "g -0.783283  0.728859\n",
      "h -0.065637 -0.967669\n"
     ]
    }
   ],
   "source": [
    "import numpy as np\n",
    "import pandas as pd\n",
    "df=pd.DataFrame(np.random.randn(8,4),index=['a','b','c','d','e','f','g','h'], columns=['A','B','C','D'])\n",
    "print(df)\n",
    "print (df.iloc[[1,3,5],[1,3]])\n",
    "print (df.iloc[1:3,:])\n",
    "print (df.iloc[:,1:3])"
   ]
  },
  {
   "cell_type": "code",
   "execution_count": 22,
   "metadata": {},
   "outputs": [
    {
     "name": "stdout",
     "output_type": "stream",
     "text": [
      "          A         B         C         D\n",
      "e -0.335866  2.143187 -1.746646 -0.160026\n",
      "f -0.747081 -0.042416 -0.777188  0.435503\n",
      "g -0.244162 -0.503272  0.944796  0.060230\n",
      "h  0.708101  0.982890  1.485700  0.689610\n",
      "          A         B         C         D\n",
      "a       NaN       NaN       NaN       NaN\n",
      "b       NaN       NaN       NaN       NaN\n",
      "c       NaN       NaN       NaN       NaN\n",
      "d       NaN       NaN       NaN       NaN\n",
      "e -0.335866  2.143187 -1.746646 -0.160026\n",
      "f -0.747081 -0.042416 -0.777188  0.435503\n",
      "g -0.244162 -0.503272  0.944796  0.060230\n",
      "h  0.708101  0.982890  1.485700  0.689610\n"
     ]
    }
   ],
   "source": [
    "import numpy as np\n",
    "import pandas as pd\n",
    "df=pd.DataFrame(np.random.randn(4,4),index=['e','f','g','h'], columns=['A','B','C','D'])\n",
    "print(df)\n",
    "df=df.reindex(['a','b','c','d','e','f','g','h'])\n",
    "print(df)"
   ]
  },
  {
   "cell_type": "code",
   "execution_count": 23,
   "metadata": {},
   "outputs": [
    {
     "data": {
      "text/plain": [
       "a     True\n",
       "b     True\n",
       "c     True\n",
       "d     True\n",
       "e    False\n",
       "f    False\n",
       "g    False\n",
       "h    False\n",
       "Name: C, dtype: bool"
      ]
     },
     "execution_count": 23,
     "metadata": {},
     "output_type": "execute_result"
    }
   ],
   "source": [
    "df['C'].isnull()"
   ]
  },
  {
   "cell_type": "code",
   "execution_count": 24,
   "metadata": {},
   "outputs": [
    {
     "data": {
      "text/html": [
       "<div>\n",
       "<style scoped>\n",
       "    .dataframe tbody tr th:only-of-type {\n",
       "        vertical-align: middle;\n",
       "    }\n",
       "\n",
       "    .dataframe tbody tr th {\n",
       "        vertical-align: top;\n",
       "    }\n",
       "\n",
       "    .dataframe thead th {\n",
       "        text-align: right;\n",
       "    }\n",
       "</style>\n",
       "<table border=\"1\" class=\"dataframe\">\n",
       "  <thead>\n",
       "    <tr style=\"text-align: right;\">\n",
       "      <th></th>\n",
       "      <th>A</th>\n",
       "      <th>B</th>\n",
       "      <th>C</th>\n",
       "      <th>D</th>\n",
       "    </tr>\n",
       "  </thead>\n",
       "  <tbody>\n",
       "    <tr>\n",
       "      <th>a</th>\n",
       "      <td>0.000000</td>\n",
       "      <td>0.000000</td>\n",
       "      <td>0.000000</td>\n",
       "      <td>0.000000</td>\n",
       "    </tr>\n",
       "    <tr>\n",
       "      <th>b</th>\n",
       "      <td>0.000000</td>\n",
       "      <td>0.000000</td>\n",
       "      <td>0.000000</td>\n",
       "      <td>0.000000</td>\n",
       "    </tr>\n",
       "    <tr>\n",
       "      <th>c</th>\n",
       "      <td>0.000000</td>\n",
       "      <td>0.000000</td>\n",
       "      <td>0.000000</td>\n",
       "      <td>0.000000</td>\n",
       "    </tr>\n",
       "    <tr>\n",
       "      <th>d</th>\n",
       "      <td>0.000000</td>\n",
       "      <td>0.000000</td>\n",
       "      <td>0.000000</td>\n",
       "      <td>0.000000</td>\n",
       "    </tr>\n",
       "    <tr>\n",
       "      <th>e</th>\n",
       "      <td>-0.335866</td>\n",
       "      <td>2.143187</td>\n",
       "      <td>-1.746646</td>\n",
       "      <td>-0.160026</td>\n",
       "    </tr>\n",
       "    <tr>\n",
       "      <th>f</th>\n",
       "      <td>-0.747081</td>\n",
       "      <td>-0.042416</td>\n",
       "      <td>-0.777188</td>\n",
       "      <td>0.435503</td>\n",
       "    </tr>\n",
       "    <tr>\n",
       "      <th>g</th>\n",
       "      <td>-0.244162</td>\n",
       "      <td>-0.503272</td>\n",
       "      <td>0.944796</td>\n",
       "      <td>0.060230</td>\n",
       "    </tr>\n",
       "    <tr>\n",
       "      <th>h</th>\n",
       "      <td>0.708101</td>\n",
       "      <td>0.982890</td>\n",
       "      <td>1.485700</td>\n",
       "      <td>0.689610</td>\n",
       "    </tr>\n",
       "  </tbody>\n",
       "</table>\n",
       "</div>"
      ],
      "text/plain": [
       "          A         B         C         D\n",
       "a  0.000000  0.000000  0.000000  0.000000\n",
       "b  0.000000  0.000000  0.000000  0.000000\n",
       "c  0.000000  0.000000  0.000000  0.000000\n",
       "d  0.000000  0.000000  0.000000  0.000000\n",
       "e -0.335866  2.143187 -1.746646 -0.160026\n",
       "f -0.747081 -0.042416 -0.777188  0.435503\n",
       "g -0.244162 -0.503272  0.944796  0.060230\n",
       "h  0.708101  0.982890  1.485700  0.689610"
      ]
     },
     "execution_count": 24,
     "metadata": {},
     "output_type": "execute_result"
    }
   ],
   "source": [
    "df.fillna(0)"
   ]
  },
  {
   "cell_type": "code",
   "execution_count": 25,
   "metadata": {},
   "outputs": [
    {
     "name": "stdout",
     "output_type": "stream",
     "text": [
      "          A         B         C         D\n",
      "e -0.203302  0.621872  0.403400  1.428811\n",
      "f -0.821816  0.103916 -1.084924  0.646309\n",
      "g  2.523140 -1.470855  0.438684  0.989127\n",
      "h  0.272950  1.424170 -1.521869 -0.254612\n",
      "          A         B         C         D\n",
      "a -0.203302  0.621872  0.403400  1.428811\n",
      "b -0.203302  0.621872  0.403400  1.428811\n",
      "c -0.203302  0.621872  0.403400  1.428811\n",
      "d -0.203302  0.621872  0.403400  1.428811\n",
      "e -0.203302  0.621872  0.403400  1.428811\n",
      "f -0.821816  0.103916 -1.084924  0.646309\n",
      "g  2.523140 -1.470855  0.438684  0.989127\n",
      "h  0.272950  1.424170 -1.521869 -0.254612\n"
     ]
    }
   ],
   "source": [
    "import numpy as np\n",
    "import pandas as pd\n",
    "df=pd.DataFrame(np.random.randn(4,4),index=['e','f','g','h'], columns=['A','B','C','D'])\n",
    "print(df)\n",
    "df=df.reindex(['a','b','c','d','e','f','g','h'])\n",
    "df=df.fillna(method='bfill') #backward fill\n",
    "print(df)"
   ]
  },
  {
   "cell_type": "code",
   "execution_count": 26,
   "metadata": {},
   "outputs": [
    {
     "name": "stdout",
     "output_type": "stream",
     "text": [
      "          A         B         C         D\n",
      "e  0.148056 -0.217952 -0.067926  1.208688\n",
      "f -0.387491 -0.125212  0.154293 -0.429993\n",
      "g -0.054986  0.574139  2.290308 -0.172592\n",
      "h -1.985555  0.184273 -2.232184  0.368587\n",
      "          A         B         C         D\n",
      "a       NaN       NaN       NaN       NaN\n",
      "b       NaN       NaN       NaN       NaN\n",
      "c       NaN       NaN       NaN       NaN\n",
      "d       NaN       NaN       NaN       NaN\n",
      "e  0.148056 -0.217952 -0.067926  1.208688\n",
      "f -0.387491 -0.125212  0.154293 -0.429993\n",
      "g -0.054986  0.574139  2.290308 -0.172592\n",
      "h -1.985555  0.184273 -2.232184  0.368587\n",
      "          A         B         C         D\n",
      "e  0.148056 -0.217952 -0.067926  1.208688\n",
      "f -0.387491 -0.125212  0.154293 -0.429993\n",
      "g -0.054986  0.574139  2.290308 -0.172592\n",
      "h -1.985555  0.184273 -2.232184  0.368587\n"
     ]
    }
   ],
   "source": [
    "import numpy as np\n",
    "import pandas as pd\n",
    "df=pd.DataFrame(np.random.randn(4,4),index=['e','f','g','h'], columns=['A','B','C','D'])\n",
    "print(df)\n",
    "df=df.reindex(['a','b','c','d','e','f','g','h'])\n",
    "print(df)\n",
    "print(df.dropna())"
   ]
  },
  {
   "cell_type": "code",
   "execution_count": 27,
   "metadata": {},
   "outputs": [
    {
     "name": "stdout",
     "output_type": "stream",
     "text": [
      "   One  Two\n",
      "0   10   10\n",
      "1   20   20\n",
      "2   30   40\n",
      "3   40   60\n",
      "4   50   80\n"
     ]
    }
   ],
   "source": [
    "import numpy as np\n",
    "import pandas as pd\n",
    "df=pd.DataFrame({'One':[10,20,300,40,50],'Two':[100,20,40,60,80]})\n",
    "print(df.replace({100:10,300:30}))"
   ]
  },
  {
   "cell_type": "code",
   "execution_count": null,
   "metadata": {},
   "outputs": [],
   "source": [
    "import numpy as np\n",
    "import pandas as pd\n",
    "sales=pd.DataFrame({'weekday':['sun','mon','tues'],'city':['bhagalpur','hoshiyarpur','nagpur'],'bread':})\n",
    "print(df.replace({100:10,300:30}))"
   ]
  }
 ],
 "metadata": {
  "kernelspec": {
   "display_name": "Python 3",
   "language": "python",
   "name": "python3"
  },
  "language_info": {
   "codemirror_mode": {
    "name": "ipython",
    "version": 3
   },
   "file_extension": ".py",
   "mimetype": "text/x-python",
   "name": "python",
   "nbconvert_exporter": "python",
   "pygments_lexer": "ipython3",
   "version": "3.6.5"
  }
 },
 "nbformat": 4,
 "nbformat_minor": 2
}
