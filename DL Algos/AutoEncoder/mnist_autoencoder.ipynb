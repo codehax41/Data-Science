{
  "nbformat": 4,
  "nbformat_minor": 0,
  "metadata": {
    "colab": {
      "name": "mnist_autoencoder.ipynb",
      "version": "0.3.2",
      "provenance": [],
      "collapsed_sections": []
    },
    "kernelspec": {
      "name": "python3",
      "display_name": "Python 3"
    }
  },
  "cells": [
    {
      "metadata": {
        "id": "recGZtSETebZ",
        "colab_type": "code",
        "colab": {}
      },
      "cell_type": "code",
      "source": [
        "import numpy as np\n",
        "import matplotlib.pyplot as plt\n",
        "%matplotlib inline\n",
        "import tensorflow as tf\n",
        "from tensorflow.examples.tutorials.mnist import input_data"
      ],
      "execution_count": 0,
      "outputs": []
    },
    {
      "metadata": {
        "id": "VyLqF1RQT0xw",
        "colab_type": "code",
        "colab": {
          "base_uri": "https://localhost:8080/",
          "height": 85
        },
        "outputId": "bd5d19d4-5aa4-481f-b115-ca75f942b016"
      },
      "cell_type": "code",
      "source": [
        "mnist=input_data.read_data_sets(\"../03-Convolutional-Neural-Networks/MNIST_data/\", one_hot=True)"
      ],
      "execution_count": 18,
      "outputs": [
        {
          "output_type": "stream",
          "text": [
            "Extracting ../03-Convolutional-Neural-Networks/MNIST_data/train-images-idx3-ubyte.gz\n",
            "Extracting ../03-Convolutional-Neural-Networks/MNIST_data/train-labels-idx1-ubyte.gz\n",
            "Extracting ../03-Convolutional-Neural-Networks/MNIST_data/t10k-images-idx3-ubyte.gz\n",
            "Extracting ../03-Convolutional-Neural-Networks/MNIST_data/t10k-labels-idx1-ubyte.gz\n"
          ],
          "name": "stdout"
        }
      ]
    },
    {
      "metadata": {
        "id": "hP57Ek_-UUC-",
        "colab_type": "code",
        "colab": {}
      },
      "cell_type": "code",
      "source": [
        "tf.reset_default_graph()"
      ],
      "execution_count": 0,
      "outputs": []
    },
    {
      "metadata": {
        "id": "7mqg0dXVUZBp",
        "colab_type": "code",
        "colab": {}
      },
      "cell_type": "code",
      "source": [
        "num_inputs=784\n",
        "neuron_hid1=392\n",
        "neuron_hid2=196\n",
        "neuron_hid3=neuron_hid1\n",
        "num_outputs=num_inputs"
      ],
      "execution_count": 0,
      "outputs": []
    },
    {
      "metadata": {
        "id": "nKNABBdmVUSg",
        "colab_type": "code",
        "colab": {}
      },
      "cell_type": "code",
      "source": [
        "learning_rate=0.01\n",
        "actf=tf.nn.relu"
      ],
      "execution_count": 0,
      "outputs": []
    },
    {
      "metadata": {
        "id": "EcCIkZ7HVZMO",
        "colab_type": "code",
        "colab": {}
      },
      "cell_type": "code",
      "source": [
        "x=tf.placeholder(tf.float32,shape=[None,num_inputs])"
      ],
      "execution_count": 0,
      "outputs": []
    },
    {
      "metadata": {
        "id": "ejpPeBPUVgye",
        "colab_type": "code",
        "colab": {}
      },
      "cell_type": "code",
      "source": [
        "initializer=tf.variance_scaling_initializer()"
      ],
      "execution_count": 0,
      "outputs": []
    },
    {
      "metadata": {
        "id": "Y5e8G_LJVl34",
        "colab_type": "code",
        "colab": {}
      },
      "cell_type": "code",
      "source": [
        "w1=tf.Variable(initializer([num_inputs,neuron_hid1]), dtype=tf.float32)\n",
        "w2=tf.Variable(initializer([neuron_hid1,neuron_hid2]), dtype=tf.float32)\n",
        "w3=tf.Variable(initializer([neuron_hid2,neuron_hid3]), dtype=tf.float32)\n",
        "w4=tf.Variable(initializer([neuron_hid3,num_outputs]), dtype=tf.float32)"
      ],
      "execution_count": 0,
      "outputs": []
    },
    {
      "metadata": {
        "id": "wdneF4PfWS9I",
        "colab_type": "code",
        "colab": {}
      },
      "cell_type": "code",
      "source": [
        "b1=tf.Variable(tf.zeros(neuron_hid1))\n",
        "b2=tf.Variable(tf.zeros(neuron_hid2))\n",
        "b3=tf.Variable(tf.zeros(neuron_hid3))\n",
        "b4=tf.Variable(tf.zeros(num_outputs))"
      ],
      "execution_count": 0,
      "outputs": []
    },
    {
      "metadata": {
        "id": "KtOKLA3JWpQq",
        "colab_type": "code",
        "colab": {}
      },
      "cell_type": "code",
      "source": [
        "act_func=tf.nn.relu"
      ],
      "execution_count": 0,
      "outputs": []
    },
    {
      "metadata": {
        "id": "cYOqoxsZXCs_",
        "colab_type": "code",
        "colab": {}
      },
      "cell_type": "code",
      "source": [
        "hid_layer1=act_func(tf.matmul(x,w1)+b1)\n",
        "hid_layer2=act_func(tf.matmul(hid_layer1,w2)+b2)\n",
        "hid_layer3=act_func(tf.matmul(hid_layer2,w3)+b3)\n",
        "output_layer=act_func(tf.matmul(hid_layer3,w4)+b4)"
      ],
      "execution_count": 0,
      "outputs": []
    },
    {
      "metadata": {
        "id": "dds1yxryXfTP",
        "colab_type": "code",
        "colab": {}
      },
      "cell_type": "code",
      "source": [
        "loss=tf.reduce_mean(tf.square(output_layer-x))\n",
        "optimizer=tf.train.AdamOptimizer(learning_rate)\n",
        "train=optimizer.minimize(loss)\n",
        "init=tf.global_variables_initializer()\n",
        "saver=tf.train.Saver()"
      ],
      "execution_count": 0,
      "outputs": []
    },
    {
      "metadata": {
        "id": "opLjWZlbZBbv",
        "colab_type": "code",
        "colab": {
          "base_uri": "https://localhost:8080/",
          "height": 102
        },
        "outputId": "c5f9de59-e22e-48cb-ba19-5f5e42d85c00"
      },
      "cell_type": "code",
      "source": [
        "num_epochs=5\n",
        "batch_size=150\n",
        "with tf.Session() as sess:\n",
        "  sess.run(init)\n",
        "  for epoch in range(num_epochs):\n",
        "    num_batches=mnist.train.num_examples // batch_size\n",
        "    for iteration in range(num_batches):\n",
        "      x_batch,y_batch=mnist.train.next_batch(batch_size)\n",
        "      sess.run(train, feed_dict={x:x_batch})\n",
        "    training_loss=loss.eval(feed_dict={x:x_batch})\n",
        "    print(\"EPOCHS: {} LOSS: {}\".format(epoch,training_loss))\n",
        "  saver.save(sess,'./example_mnist_stacked_autoencoder.ckpt')"
      ],
      "execution_count": 34,
      "outputs": [
        {
          "output_type": "stream",
          "text": [
            "EPOCHS: 0 LOSS: 0.02610182948410511\n",
            "EPOCHS: 1 LOSS: 0.024310553446412086\n",
            "EPOCHS: 2 LOSS: 0.022196566686034203\n",
            "EPOCHS: 3 LOSS: 0.02258424460887909\n",
            "EPOCHS: 4 LOSS: 0.022153552621603012\n"
          ],
          "name": "stdout"
        }
      ]
    },
    {
      "metadata": {
        "id": "uFO7P2SWaJID",
        "colab_type": "code",
        "colab": {
          "base_uri": "https://localhost:8080/",
          "height": 105
        },
        "outputId": "50c24f51-26e4-45d7-bcb3-d276bf12d65e"
      },
      "cell_type": "code",
      "source": [
        "num_test_images=10\n",
        "with tf.Session() as sess:\n",
        "  saver.restore(sess,'./example_mnist_stacked_autoencoder.ckpt')\n",
        "  results=output_layer.eval(feed_dict={x:mnist.test.images[:num_test_images]})"
      ],
      "execution_count": 35,
      "outputs": [
        {
          "output_type": "stream",
          "text": [
            "WARNING:tensorflow:From /usr/local/lib/python3.6/dist-packages/tensorflow/python/training/saver.py:1266: checkpoint_exists (from tensorflow.python.training.checkpoint_management) is deprecated and will be removed in a future version.\n",
            "Instructions for updating:\n",
            "Use standard file APIs to check for files with this prefix.\n",
            "INFO:tensorflow:Restoring parameters from ./example_mnist_stacked_autoencoder.ckpt\n"
          ],
          "name": "stdout"
        }
      ]
    },
    {
      "metadata": {
        "id": "XWbsq2BOauTZ",
        "colab_type": "code",
        "colab": {
          "base_uri": "https://localhost:8080/",
          "height": 283
        },
        "outputId": "fe73f020-5eab-488e-c4a1-2fa804ed4f13"
      },
      "cell_type": "code",
      "source": [
        "f,a=plt.subplots(2, 10, figsize=(20,4))\n",
        "for i in range(num_test_images):\n",
        "  a[0][i].imshow(np.reshape(mnist.test.images[i], (28,28)))\n",
        "  a[1][i].imshow(np.reshape(results[i], (28,28)))"
      ],
      "execution_count": 36,
      "outputs": [
        {
          "output_type": "display_data",
          "data": {
            "image/png": "[encoded data removed]",
            "text/plain": [
              "<Figure size 1440x288 with 20 Axes>"
            ]
          },
          "metadata": {
            "tags": []
          }
        }
      ]
    },
    {
      "metadata": {
        "id": "NxjhW9C6bq2B",
        "colab_type": "code",
        "colab": {}
      },
      "cell_type": "code",
      "source": [
        ""
      ],
      "execution_count": 0,
      "outputs": []
    }
  ]
}