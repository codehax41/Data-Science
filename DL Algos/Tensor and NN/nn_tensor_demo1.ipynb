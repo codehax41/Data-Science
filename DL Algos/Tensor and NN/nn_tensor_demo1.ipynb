{
 "cells": [
  {
   "cell_type": "markdown",
   "metadata": {},
   "source": [
    "#TF Graph "
   ]
  },
  {
   "cell_type": "code",
   "execution_count": 1,
   "metadata": {},
   "outputs": [
    {
     "name": "stderr",
     "output_type": "stream",
     "text": [
      "C:\\Users\\codehax\\Anaconda3\\lib\\site-packages\\h5py\\__init__.py:36: FutureWarning: Conversion of the second argument of issubdtype from `float` to `np.floating` is deprecated. In future, it will be treated as `np.float64 == np.dtype(float).type`.\n",
      "  from ._conv import register_converters as _register_converters\n"
     ]
    }
   ],
   "source": [
    "import numpy as np\n",
    "import tensorflow as tf"
   ]
  },
  {
   "cell_type": "code",
   "execution_count": 2,
   "metadata": {},
   "outputs": [],
   "source": [
    "np.random.seed(101)\n",
    "tf.set_random_seed(101)"
   ]
  },
  {
   "cell_type": "code",
   "execution_count": 3,
   "metadata": {},
   "outputs": [
    {
     "data": {
      "text/plain": [
       "array([[51.63986277, 57.06675869,  2.84742265, 17.15216562, 68.52769817],\n",
       "       [83.38968626, 30.69662197, 89.36130797, 72.15438618, 18.99389542],\n",
       "       [55.42275911, 35.2131954 , 18.18924027, 78.56017619, 96.54832224],\n",
       "       [23.23536618,  8.35614337, 60.35484223, 72.89927573, 27.62388285],\n",
       "       [68.53063288, 51.78674742,  4.84845374, 13.78692376, 18.69674261]])"
      ]
     },
     "execution_count": 3,
     "metadata": {},
     "output_type": "execute_result"
    }
   ],
   "source": [
    "rand_a=np.random.uniform(0,100,(5,5))\n",
    "rand_a"
   ]
  },
  {
   "cell_type": "code",
   "execution_count": 4,
   "metadata": {},
   "outputs": [
    {
     "data": {
      "text/plain": [
       "array([[99.43179012],\n",
       "       [52.06653967],\n",
       "       [57.87895355],\n",
       "       [73.48190583],\n",
       "       [54.19617722]])"
      ]
     },
     "execution_count": 4,
     "metadata": {},
     "output_type": "execute_result"
    }
   ],
   "source": [
    "rand_b=np.random.uniform(0,100,(5,1))\n",
    "rand_b"
   ]
  },
  {
   "cell_type": "code",
   "execution_count": 5,
   "metadata": {},
   "outputs": [],
   "source": [
    "a=tf.placeholder(tf.float32)\n",
    "b=tf.placeholder(tf.float32)"
   ]
  },
  {
   "cell_type": "code",
   "execution_count": 6,
   "metadata": {},
   "outputs": [],
   "source": [
    "add_op = a+b\n",
    "mul_op = a*b"
   ]
  },
  {
   "cell_type": "code",
   "execution_count": 9,
   "metadata": {
    "scrolled": true
   },
   "outputs": [
    {
     "name": "stdout",
     "output_type": "stream",
     "text": [
      "[[151.07166  156.49855  102.27921  116.58396  167.95949 ]\n",
      " [135.45622   82.76316  141.42784  124.22093   71.06043 ]\n",
      " [113.30171   93.09215   76.06819  136.43912  154.42728 ]\n",
      " [ 96.71727   81.83804  133.83675  146.38118  101.10579 ]\n",
      " [122.72681  105.982925  59.044632  67.9831    72.89292 ]]\n",
      "[[5134.644   5674.25     283.12433 1705.4707  6813.8315 ]\n",
      " [4341.8125  1598.267   4652.734   3756.8293   988.94635]\n",
      " [3207.8113  2038.1029  1052.7742  4546.9805  5588.1157 ]\n",
      " [1707.379    614.02527 4434.989   5356.7773  2029.8555 ]\n",
      " [3714.0984  2806.6438   262.76764  747.19855 1013.292  ]]\n"
     ]
    }
   ],
   "source": [
    "with tf.Session() as sess:\n",
    "    add_result=sess.run(add_op, feed_dict={a:rand_a,b:rand_b})\n",
    "    print(add_result)\n",
    "    \n",
    "    mul_result=sess.run(mul_op, feed_dict={a:rand_a,b:rand_b})\n",
    "    print(mul_result)"
   ]
  },
  {
   "cell_type": "markdown",
   "metadata": {},
   "source": [
    "# NN"
   ]
  },
  {
   "cell_type": "code",
   "execution_count": 10,
   "metadata": {},
   "outputs": [],
   "source": [
    "n_features=10\n",
    "n_dense_neurons=3"
   ]
  },
  {
   "cell_type": "code",
   "execution_count": 12,
   "metadata": {},
   "outputs": [],
   "source": [
    "x=tf.placeholder(tf.float32, (None, n_features))\n",
    "w=tf.Variable(tf.random_normal([n_features,n_dense_neurons]))\n",
    "b=tf.Variable(tf.ones([n_dense_neurons]))"
   ]
  },
  {
   "cell_type": "code",
   "execution_count": 13,
   "metadata": {},
   "outputs": [],
   "source": [
    "xw=tf.matmul(x,w)\n",
    "z=tf.add(xw,b)"
   ]
  },
  {
   "cell_type": "code",
   "execution_count": 14,
   "metadata": {},
   "outputs": [],
   "source": [
    "#actvation fn\n",
    "a=tf.sigmoid(z)"
   ]
  },
  {
   "cell_type": "code",
   "execution_count": 18,
   "metadata": {},
   "outputs": [],
   "source": [
    "init=tf.global_variables_initializer()"
   ]
  },
  {
   "cell_type": "code",
   "execution_count": 20,
   "metadata": {},
   "outputs": [],
   "source": [
    "with tf.Session() as sess:\n",
    "    sess.run(init)\n",
    "    layer_out=sess.run(a,feed_dict={x:np.random.random([1,n_features])})"
   ]
  },
  {
   "cell_type": "code",
   "execution_count": 21,
   "metadata": {},
   "outputs": [
    {
     "name": "stdout",
     "output_type": "stream",
     "text": [
      "[[0.9060059  0.68690985 0.997595  ]]\n"
     ]
    }
   ],
   "source": [
    "print(layer_out)"
   ]
  },
  {
   "cell_type": "markdown",
   "metadata": {},
   "source": [
    "# Regression Example "
   ]
  },
  {
   "cell_type": "code",
   "execution_count": 22,
   "metadata": {},
   "outputs": [],
   "source": [
    "x_data=np.linspace(0,10,10) + np.random.uniform(-1.5,1.5,10)\n",
    "y_label=np.linspace(0,10,10) + np.random.uniform(-1.5,1.5,10)"
   ]
  },
  {
   "cell_type": "code",
   "execution_count": 24,
   "metadata": {
    "scrolled": true
   },
   "outputs": [
    {
     "data": {
      "text/plain": [
       "[<matplotlib.lines.Line2D at 0x20df3fafbe0>]"
      ]
     },
     "execution_count": 24,
     "metadata": {},
     "output_type": "execute_result"
    },
    {
     "data": {
      "image/png": "[encoded data removed]",
      "text/plain": [
       "<Figure size 432x288 with 1 Axes>"
      ]
     },
     "metadata": {},
     "output_type": "display_data"
    }
   ],
   "source": [
    "import matplotlib.pyplot as plt\n",
    "%matplotlib inline\n",
    "plt.plot(x_data,y_label,'*')"
   ]
  },
  {
   "cell_type": "markdown",
   "metadata": {},
   "source": [
    "y=mx+b"
   ]
  },
  {
   "cell_type": "code",
   "execution_count": 25,
   "metadata": {},
   "outputs": [],
   "source": [
    "np.random.rand(2)\n",
    "m=tf.Variable(0.44)\n",
    "b=tf.Variable(0.87)"
   ]
  },
  {
   "cell_type": "code",
   "execution_count": 26,
   "metadata": {},
   "outputs": [],
   "source": [
    "error=0\n",
    "for x,y in zip(x_data, y_label):\n",
    "    y_hat=m*x + b\n",
    "    #now we'll minimize cost fn\n",
    "    error += (y-y_hat)**2"
   ]
  },
  {
   "cell_type": "code",
   "execution_count": 27,
   "metadata": {},
   "outputs": [],
   "source": [
    "optimizer=tf.train.GradientDescentOptimizer(learning_rate=0.001)\n",
    "train = optimizer.minimize(error)"
   ]
  },
  {
   "cell_type": "code",
   "execution_count": 30,
   "metadata": {},
   "outputs": [],
   "source": [
    "init = tf.global_variables_initializer()\n",
    "with tf.Session() as sess:\n",
    "    sess.run(init)\n",
    "    training_steps=100\n",
    "    for i in range(training_steps):\n",
    "        sess.run(train)\n",
    "    final_slope, final_intercept = sess.run([m,b])"
   ]
  },
  {
   "cell_type": "code",
   "execution_count": 31,
   "metadata": {},
   "outputs": [
    {
     "data": {
      "text/plain": [
       "[<matplotlib.lines.Line2D at 0x20df439f898>]"
      ]
     },
     "execution_count": 31,
     "metadata": {},
     "output_type": "execute_result"
    },
    {
     "data": {
      "image/png": "[encoded data removed]",
      "text/plain": [
       "<Figure size 432x288 with 1 Axes>"
      ]
     },
     "metadata": {},
     "output_type": "display_data"
    }
   ],
   "source": [
    "x_test=np.linspace(-1,11,10)\n",
    "y_pred_plot=final_slope*x_test + final_intercept\n",
    "plt.plot(x_test,y_pred_plot)\n",
    "plt.plot(x_data,y_label,'*')"
   ]
  },
  {
   "cell_type": "code",
   "execution_count": null,
   "metadata": {},
   "outputs": [],
   "source": []
  }
 ],
 "metadata": {
  "kernelspec": {
   "display_name": "Python 3",
   "language": "python",
   "name": "python3"
  },
  "language_info": {
   "codemirror_mode": {
    "name": "ipython",
    "version": 3
   },
   "file_extension": ".py",
   "mimetype": "text/x-python",
   "name": "python",
   "nbconvert_exporter": "python",
   "pygments_lexer": "ipython3",
   "version": "3.6.5"
  }
 },
 "nbformat": 4,
 "nbformat_minor": 2
}
