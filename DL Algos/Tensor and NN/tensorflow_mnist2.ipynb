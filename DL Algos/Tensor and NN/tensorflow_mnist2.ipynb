{
 "cells": [
  {
   "cell_type": "code",
   "execution_count": 1,
   "metadata": {
    "colab": {
     "base_uri": "https://localhost:8080/",
     "height": 85
    },
    "colab_type": "code",
    "id": "vEGLiJiYLljn",
    "outputId": "8922fd72-345b-4e03-8895-f515974211f5"
   },
   "outputs": [
    {
     "name": "stderr",
     "output_type": "stream",
     "text": [
      "C:\\Users\\codehax\\Anaconda3\\lib\\site-packages\\h5py\\__init__.py:36: FutureWarning: Conversion of the second argument of issubdtype from `float` to `np.floating` is deprecated. In future, it will be treated as `np.float64 == np.dtype(float).type`.\n",
      "  from ._conv import register_converters as _register_converters\n"
     ]
    },
    {
     "name": "stdout",
     "output_type": "stream",
     "text": [
      "WARNING:tensorflow:From <ipython-input-1-ef490f6b4aef>:4: read_data_sets (from tensorflow.contrib.learn.python.learn.datasets.mnist) is deprecated and will be removed in a future version.\n",
      "Instructions for updating:\n",
      "Please use alternatives such as official/mnist/dataset.py from tensorflow/models.\n",
      "WARNING:tensorflow:From C:\\Users\\codehax\\Anaconda3\\lib\\site-packages\\tensorflow\\contrib\\learn\\python\\learn\\datasets\\mnist.py:260: maybe_download (from tensorflow.contrib.learn.python.learn.datasets.base) is deprecated and will be removed in a future version.\n",
      "Instructions for updating:\n",
      "Please write your own downloading logic.\n",
      "WARNING:tensorflow:From C:\\Users\\codehax\\Anaconda3\\lib\\site-packages\\tensorflow\\contrib\\learn\\python\\learn\\datasets\\mnist.py:262: extract_images (from tensorflow.contrib.learn.python.learn.datasets.mnist) is deprecated and will be removed in a future version.\n",
      "Instructions for updating:\n",
      "Please use tf.data to implement this functionality.\n",
      "Extracting MNIST_data/train-images-idx3-ubyte.gz\n",
      "WARNING:tensorflow:From C:\\Users\\codehax\\Anaconda3\\lib\\site-packages\\tensorflow\\contrib\\learn\\python\\learn\\datasets\\mnist.py:267: extract_labels (from tensorflow.contrib.learn.python.learn.datasets.mnist) is deprecated and will be removed in a future version.\n",
      "Instructions for updating:\n",
      "Please use tf.data to implement this functionality.\n",
      "Extracting MNIST_data/train-labels-idx1-ubyte.gz\n",
      "WARNING:tensorflow:From C:\\Users\\codehax\\Anaconda3\\lib\\site-packages\\tensorflow\\contrib\\learn\\python\\learn\\datasets\\mnist.py:110: dense_to_one_hot (from tensorflow.contrib.learn.python.learn.datasets.mnist) is deprecated and will be removed in a future version.\n",
      "Instructions for updating:\n",
      "Please use tf.one_hot on tensors.\n",
      "Extracting MNIST_data/t10k-images-idx3-ubyte.gz\n",
      "Extracting MNIST_data/t10k-labels-idx1-ubyte.gz\n",
      "WARNING:tensorflow:From C:\\Users\\codehax\\Anaconda3\\lib\\site-packages\\tensorflow\\contrib\\learn\\python\\learn\\datasets\\mnist.py:290: DataSet.__init__ (from tensorflow.contrib.learn.python.learn.datasets.mnist) is deprecated and will be removed in a future version.\n",
      "Instructions for updating:\n",
      "Please use alternatives such as official/mnist/dataset.py from tensorflow/models.\n"
     ]
    }
   ],
   "source": [
    "import numpy as np\n",
    "import tensorflow as tf\n",
    "from tensorflow.examples.tutorials.mnist import input_data\n",
    "mnist = input_data.read_data_sets('MNIST_data/', one_hot=True)"
   ]
  },
  {
   "cell_type": "code",
   "execution_count": 7,
   "metadata": {},
   "outputs": [
    {
     "name": "stdout",
     "output_type": "stream",
     "text": [
      "<class 'tensorflow.contrib.learn.python.learn.datasets.base.Datasets'>\n"
     ]
    }
   ],
   "source": [
    "print(type(mnist))\n",
    "sample=mnist.train.images[7889].reshape(28,28)"
   ]
  },
  {
   "cell_type": "code",
   "execution_count": 8,
   "metadata": {},
   "outputs": [
    {
     "data": {
      "text/plain": [
       "<matplotlib.image.AxesImage at 0x1d18087b278>"
      ]
     },
     "execution_count": 8,
     "metadata": {},
     "output_type": "execute_result"
    },
    {
     "data": {
      "image/png": "[encoded data removed]",
      "text/plain": [
       "<Figure size 432x288 with 1 Axes>"
      ]
     },
     "metadata": {},
     "output_type": "display_data"
    }
   ],
   "source": [
    "import matplotlib.pyplot as plt\n",
    "%matplotlib inline\n",
    "plt.imshow(sample)\n",
    "plt.imshow(sample, cmap='Greys')"
   ]
  },
  {
   "cell_type": "code",
   "execution_count": 2,
   "metadata": {
    "colab": {},
    "colab_type": "code",
    "id": "jwzV_iU4Ltc9"
   },
   "outputs": [
    {
     "name": "stdout",
     "output_type": "stream",
     "text": [
      "WARNING:tensorflow:From <ipython-input-2-b7d9f76182f1>:27: softmax_cross_entropy_with_logits (from tensorflow.python.ops.nn_ops) is deprecated and will be removed in a future version.\n",
      "Instructions for updating:\n",
      "\n",
      "Future major versions of TensorFlow will allow gradients to flow\n",
      "into the labels input on backprop by default.\n",
      "\n",
      "See `tf.nn.softmax_cross_entropy_with_logits_v2`.\n",
      "\n"
     ]
    }
   ],
   "source": [
    "output_size=10\n",
    "input_size=784\n",
    "hidden_size=100\n",
    "\n",
    "tf.reset_default_graph() #clears all default raw values\n",
    "\n",
    "#layer 1 i.e, input\n",
    "inputs=tf.placeholder(tf.float32, [None,input_size])\n",
    "targets=tf.placeholder(tf.float32, [None,output_size])\n",
    "\n",
    "#layer 2 i.e, hidden 1\n",
    "weights_1=tf.get_variable(\"weight_1\", [input_size,hidden_size])\n",
    "biases_1=tf.get_variable(\"biases_1\", [hidden_size])\n",
    "output_1=tf.nn.relu(tf.matmul(inputs,weights_1) + biases_1)\n",
    "\n",
    "#layer 3 i.e, hidden 2\n",
    "weights_2=tf.get_variable(\"weight_2\", [hidden_size,hidden_size])\n",
    "biases_2=tf.get_variable(\"biases_2\", [hidden_size])\n",
    "output_2=tf.nn.relu(tf.matmul(output_1,weights_2) + biases_2)\n",
    "\n",
    "#layer 4 i.e, output\n",
    "weights_3=tf.get_variable(\"weight_3\", [hidden_size,output_size])\n",
    "biases_3=tf.get_variable(\"biases_3\", [output_size])\n",
    "outputs=tf.nn.relu(tf.matmul(output_2,weights_3) + biases_3)\n",
    "\n",
    "#loss and optimization fn\n",
    "loss=tf.nn.softmax_cross_entropy_with_logits(logits=outputs, labels=targets)\n",
    "mean_loss=tf.reduce_mean(loss)\n",
    "optimize=tf.train.AdamOptimizer(learning_rate=0.001).minimize(mean_loss)"
   ]
  },
  {
   "cell_type": "code",
   "execution_count": 3,
   "metadata": {
    "colab": {},
    "colab_type": "code",
    "id": "pvjgnS9uM6Yd"
   },
   "outputs": [],
   "source": [
    "#accuracy of model\n",
    "out_equal_target=tf.equal(tf.argmax(outputs,1), tf.argmax(targets,1))\n",
    "accuracy=tf.reduce_mean(tf.cast(out_equal_target, tf.float32))"
   ]
  },
  {
   "cell_type": "code",
   "execution_count": 4,
   "metadata": {
    "colab": {
     "base_uri": "https://localhost:8080/",
     "height": 207
    },
    "colab_type": "code",
    "id": "ImRIm6QwTJRs",
    "outputId": "fe42045b-8439-4b8f-9a55-400f64d6a930"
   },
   "outputs": [
    {
     "name": "stdout",
     "output_type": "stream",
     "text": [
      "Epoch 1. Training Loss: 0.752. Validation Loss: 0.598. Validation Accuracy: 76.84%\n",
      "Epoch 2. Training Loss: 0.456. Validation Loss: 0.347. Validation Accuracy: 87.04%\n",
      "Epoch 3. Training Loss: 0.328. Validation Loss: 0.343. Validation Accuracy: 87.18%\n",
      "Epoch 4. Training Loss: 0.304. Validation Loss: 0.322. Validation Accuracy: 87.72%\n",
      "Epoch 5. Training Loss: 0.288. Validation Loss: 0.315. Validation Accuracy: 87.66%\n",
      "Epoch 6. Training Loss: 0.275. Validation Loss: 0.315. Validation Accuracy: 87.80%\n",
      "Epoch 7. Training Loss: 0.268. Validation Loss: 0.316. Validation Accuracy: 87.88%\n",
      "End of Training\n"
     ]
    }
   ],
   "source": [
    "#session and test\n",
    "sess=tf.InteractiveSession()\n",
    "init=tf.global_variables_initializer()\n",
    "sess.run(init)\n",
    "batch_size=100\n",
    "batch_number=mnist.train._num_examples // batch_size \n",
    "max_epochs = 15\n",
    "prev_validation_loss = 9999999.\n",
    "\n",
    "'''\n",
    "   Loads 100 inputs and 100 targets, batch size=100\n",
    "   optimizes the algo and calculates the batch loss\n",
    "   record the loss for the iteration\n",
    "   start over the next 100 batch\n",
    "   stop when the training set is exhausted\n",
    "'''\n",
    "\n",
    "for epoch_counter in range(max_epochs):\n",
    "  curr_epoch_loss=0\n",
    "  \n",
    "  for batch_counter in range(batch_number):\n",
    "    input_batch, target_batch =mnist.train.next_batch(batch_size)\n",
    "    _, batch_loss=sess.run([optimize, mean_loss], feed_dict={inputs:input_batch, targets: target_batch})\n",
    "    curr_epoch_loss += batch_loss\n",
    "    \n",
    "  curr_epoch_loss /= batch_number\n",
    "  \n",
    "  input_batch, target_batch = mnist.validation.next_batch(mnist.validation._num_examples)\n",
    "  validation_loss, validation_accuracy=sess.run([mean_loss, accuracy], feed_dict={inputs:input_batch, targets: target_batch})\n",
    "  print('Epoch '+str(epoch_counter+1)+\n",
    "       '. Training Loss: '+'{0:.3f}'.format(curr_epoch_loss)+\n",
    "       '. Validation Loss: '+'{0:.3f}'.format(validation_loss)+\n",
    "       '. Validation Accuracy: '+'{0:.2f}'.format(validation_accuracy * 100.)+'%')\n",
    "  \n",
    "  if validation_loss > prev_validation_loss:\n",
    "    break\n",
    "  prev_validation_loss = validation_loss\n",
    "print('End of Training')"
   ]
  },
  {
   "cell_type": "code",
   "execution_count": 5,
   "metadata": {
    "colab": {
     "base_uri": "https://localhost:8080/",
     "height": 34
    },
    "colab_type": "code",
    "id": "0YsQf29SZip1",
    "outputId": "a8a0230f-14d9-4010-e912-1a56e917e053"
   },
   "outputs": [
    {
     "name": "stdout",
     "output_type": "stream",
     "text": [
      "Test Accuracy: 88.28%\n"
     ]
    }
   ],
   "source": [
    "input_batch, target_batch = mnist.test.next_batch(mnist.test._num_examples)\n",
    "test_accuracy = sess.run([accuracy], feed_dict={inputs:input_batch, targets:target_batch})\n",
    "test_accuracy_percent=test_accuracy[0]*100\n",
    "print('Test Accuracy: '+'{0:.2f}'.format(test_accuracy_percent)+ '%')"
   ]
  },
  {
   "cell_type": "code",
   "execution_count": 9,
   "metadata": {
    "colab": {},
    "colab_type": "code",
    "id": "FfWPc1nOb1OB"
   },
   "outputs": [
    {
     "data": {
      "image/png": "[encoded data removed]",
      "text/plain": [
       "<Figure size 432x288 with 1 Axes>"
      ]
     },
     "metadata": {},
     "output_type": "display_data"
    },
    {
     "data": {
      "image/png": "[encoded data removed]",
      "text/plain": [
       "<Figure size 432x288 with 1 Axes>"
      ]
     },
     "metadata": {},
     "output_type": "display_data"
    },
    {
     "data": {
      "image/png": "[encoded data removed]",
      "text/plain": [
       "<Figure size 432x288 with 1 Axes>"
      ]
     },
     "metadata": {},
     "output_type": "display_data"
    },
    {
     "data": {
      "image/png": "[encoded data removed]",
      "text/plain": [
       "<Figure size 432x288 with 1 Axes>"
      ]
     },
     "metadata": {},
     "output_type": "display_data"
    },
    {
     "data": {
      "image/png": "[encoded data removed]",
      "text/plain": [
       "<Figure size 432x288 with 1 Axes>"
      ]
     },
     "metadata": {},
     "output_type": "display_data"
    },
    {
     "data": {
      "image/png": "[encoded data removed]",
      "text/plain": [
       "<Figure size 432x288 with 1 Axes>"
      ]
     },
     "metadata": {},
     "output_type": "display_data"
    },
    {
     "data": {
      "image/png": "[encoded data removed]",
      "text/plain": [
       "<Figure size 432x288 with 1 Axes>"
      ]
     },
     "metadata": {},
     "output_type": "display_data"
    },
    {
     "data": {
      "image/png": "[encoded data removed]",
      "text/plain": [
       "<Figure size 432x288 with 1 Axes>"
      ]
     },
     "metadata": {},
     "output_type": "display_data"
    }
   ],
   "source": [
    "#misclassified datas\n",
    "import matplotlib.pyplot as plt\n",
    "%matplotlib inline\n",
    "#Testing\n",
    "for x in range(50):\n",
    "    x_train=mnist.test.images[x,:].reshape(1,784)\n",
    "    y_train=mnist.test.labels[x,:]\n",
    "    label=y_train.argmax()\n",
    "    prediction=sess.run(outputs, feed_dict={inputs: x_train}).argmax()\n",
    "    if(prediction != label):\n",
    "        plt.title('Prediction: %d Label: %d' % (prediction,label))\n",
    "        plt.imshow(x_train.reshape([28,28]), cmap=plt.get_cmap('gray_r'))\n",
    "        plt.show()"
   ]
  },
  {
   "cell_type": "code",
   "execution_count": null,
   "metadata": {},
   "outputs": [],
   "source": []
  }
 ],
 "metadata": {
  "colab": {
   "collapsed_sections": [],
   "name": "tensorflow mnist2",
   "provenance": [],
   "version": "0.3.2"
  },
  "kernelspec": {
   "display_name": "Python 3",
   "language": "python",
   "name": "python3"
  },
  "language_info": {
   "codemirror_mode": {
    "name": "ipython",
    "version": 3
   },
   "file_extension": ".py",
   "mimetype": "text/x-python",
   "name": "python",
   "nbconvert_exporter": "python",
   "pygments_lexer": "ipython3",
   "version": "3.6.5"
  }
 },
 "nbformat": 4,
 "nbformat_minor": 1
}
