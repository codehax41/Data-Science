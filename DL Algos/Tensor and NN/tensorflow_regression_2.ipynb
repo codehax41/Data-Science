{
 "cells": [
  {
   "cell_type": "code",
   "execution_count": 1,
   "metadata": {},
   "outputs": [
    {
     "name": "stderr",
     "output_type": "stream",
     "text": [
      "C:\\Users\\codehax\\Anaconda3\\lib\\site-packages\\h5py\\__init__.py:36: FutureWarning: Conversion of the second argument of issubdtype from `float` to `np.floating` is deprecated. In future, it will be treated as `np.float64 == np.dtype(float).type`.\n",
      "  from ._conv import register_converters as _register_converters\n"
     ]
    }
   ],
   "source": [
    "import numpy as np\n",
    "import pandas as pd\n",
    "import matplotlib.pyplot as plt\n",
    "%matplotlib inline\n",
    "import tensorflow as tf"
   ]
  },
  {
   "cell_type": "code",
   "execution_count": 2,
   "metadata": {},
   "outputs": [],
   "source": [
    "housing=pd.read_csv('housing.csv')"
   ]
  },
  {
   "cell_type": "code",
   "execution_count": 3,
   "metadata": {},
   "outputs": [
    {
     "data": {
      "text/html": [
       "<div>\n",
       "<style scoped>\n",
       "    .dataframe tbody tr th:only-of-type {\n",
       "        vertical-align: middle;\n",
       "    }\n",
       "\n",
       "    .dataframe tbody tr th {\n",
       "        vertical-align: top;\n",
       "    }\n",
       "\n",
       "    .dataframe thead th {\n",
       "        text-align: right;\n",
       "    }\n",
       "</style>\n",
       "<table border=\"1\" class=\"dataframe\">\n",
       "  <thead>\n",
       "    <tr style=\"text-align: right;\">\n",
       "      <th></th>\n",
       "      <th>longitude</th>\n",
       "      <th>latitude</th>\n",
       "      <th>housing_median_age</th>\n",
       "      <th>total_rooms</th>\n",
       "      <th>total_bedrooms</th>\n",
       "      <th>population</th>\n",
       "      <th>households</th>\n",
       "      <th>median_income</th>\n",
       "      <th>median_house_value</th>\n",
       "      <th>ocean_proximity</th>\n",
       "    </tr>\n",
       "  </thead>\n",
       "  <tbody>\n",
       "    <tr>\n",
       "      <th>0</th>\n",
       "      <td>-122.23</td>\n",
       "      <td>37.88</td>\n",
       "      <td>41.0</td>\n",
       "      <td>880.0</td>\n",
       "      <td>129.0</td>\n",
       "      <td>322.0</td>\n",
       "      <td>126.0</td>\n",
       "      <td>8.3252</td>\n",
       "      <td>452600.0</td>\n",
       "      <td>NEAR BAY</td>\n",
       "    </tr>\n",
       "    <tr>\n",
       "      <th>1</th>\n",
       "      <td>-122.22</td>\n",
       "      <td>37.86</td>\n",
       "      <td>21.0</td>\n",
       "      <td>7099.0</td>\n",
       "      <td>1106.0</td>\n",
       "      <td>2401.0</td>\n",
       "      <td>1138.0</td>\n",
       "      <td>8.3014</td>\n",
       "      <td>358500.0</td>\n",
       "      <td>NEAR BAY</td>\n",
       "    </tr>\n",
       "    <tr>\n",
       "      <th>2</th>\n",
       "      <td>-122.24</td>\n",
       "      <td>37.85</td>\n",
       "      <td>52.0</td>\n",
       "      <td>1467.0</td>\n",
       "      <td>190.0</td>\n",
       "      <td>496.0</td>\n",
       "      <td>177.0</td>\n",
       "      <td>7.2574</td>\n",
       "      <td>352100.0</td>\n",
       "      <td>NEAR BAY</td>\n",
       "    </tr>\n",
       "    <tr>\n",
       "      <th>3</th>\n",
       "      <td>-122.25</td>\n",
       "      <td>37.85</td>\n",
       "      <td>52.0</td>\n",
       "      <td>1274.0</td>\n",
       "      <td>235.0</td>\n",
       "      <td>558.0</td>\n",
       "      <td>219.0</td>\n",
       "      <td>5.6431</td>\n",
       "      <td>341300.0</td>\n",
       "      <td>NEAR BAY</td>\n",
       "    </tr>\n",
       "    <tr>\n",
       "      <th>4</th>\n",
       "      <td>-122.25</td>\n",
       "      <td>37.85</td>\n",
       "      <td>52.0</td>\n",
       "      <td>1627.0</td>\n",
       "      <td>280.0</td>\n",
       "      <td>565.0</td>\n",
       "      <td>259.0</td>\n",
       "      <td>3.8462</td>\n",
       "      <td>342200.0</td>\n",
       "      <td>NEAR BAY</td>\n",
       "    </tr>\n",
       "  </tbody>\n",
       "</table>\n",
       "</div>"
      ],
      "text/plain": [
       "   longitude  latitude  housing_median_age  total_rooms  total_bedrooms  \\\n",
       "0    -122.23     37.88                41.0        880.0           129.0   \n",
       "1    -122.22     37.86                21.0       7099.0          1106.0   \n",
       "2    -122.24     37.85                52.0       1467.0           190.0   \n",
       "3    -122.25     37.85                52.0       1274.0           235.0   \n",
       "4    -122.25     37.85                52.0       1627.0           280.0   \n",
       "\n",
       "   population  households  median_income  median_house_value ocean_proximity  \n",
       "0       322.0       126.0         8.3252            452600.0        NEAR BAY  \n",
       "1      2401.0      1138.0         8.3014            358500.0        NEAR BAY  \n",
       "2       496.0       177.0         7.2574            352100.0        NEAR BAY  \n",
       "3       558.0       219.0         5.6431            341300.0        NEAR BAY  \n",
       "4       565.0       259.0         3.8462            342200.0        NEAR BAY  "
      ]
     },
     "execution_count": 3,
     "metadata": {},
     "output_type": "execute_result"
    }
   ],
   "source": [
    "housing.head()"
   ]
  },
  {
   "cell_type": "code",
   "execution_count": 18,
   "metadata": {},
   "outputs": [
    {
     "data": {
      "text/plain": [
       "longitude               0\n",
       "latitude                0\n",
       "housing_median_age      0\n",
       "total_rooms             0\n",
       "total_bedrooms        207\n",
       "population              0\n",
       "households              0\n",
       "median_income           0\n",
       "median_house_value      0\n",
       "ocean_proximity         0\n",
       "dtype: int64"
      ]
     },
     "execution_count": 18,
     "metadata": {},
     "output_type": "execute_result"
    }
   ],
   "source": [
    "housing.isnull().sum()"
   ]
  },
  {
   "cell_type": "code",
   "execution_count": 21,
   "metadata": {},
   "outputs": [],
   "source": [
    "housing.fillna(method = \"ffill\", inplace=True)"
   ]
  },
  {
   "cell_type": "code",
   "execution_count": 22,
   "metadata": {},
   "outputs": [],
   "source": [
    "y_val=housing['median_house_value']\n",
    "x_data=housing.drop(['median_house_value','ocean_proximity','longitude','latitude'], axis=1)"
   ]
  },
  {
   "cell_type": "code",
   "execution_count": 23,
   "metadata": {},
   "outputs": [],
   "source": [
    "from sklearn.model_selection import train_test_split\n",
    "x_train,x_test,y_train,y_test=train_test_split(x_data,y_val,test_size=0.3, random_state=101)"
   ]
  },
  {
   "cell_type": "code",
   "execution_count": 24,
   "metadata": {},
   "outputs": [
    {
     "data": {
      "text/plain": [
       "MinMaxScaler(copy=True, feature_range=(0, 1))"
      ]
     },
     "execution_count": 24,
     "metadata": {},
     "output_type": "execute_result"
    }
   ],
   "source": [
    "from sklearn.preprocessing import MinMaxScaler\n",
    "scaler=MinMaxScaler()\n",
    "scaler.fit(x_train)"
   ]
  },
  {
   "cell_type": "code",
   "execution_count": 25,
   "metadata": {},
   "outputs": [],
   "source": [
    "x_train=pd.DataFrame(data=scaler.transform(x_train),columns=x_train.columns,index=x_train.index)"
   ]
  },
  {
   "cell_type": "code",
   "execution_count": 26,
   "metadata": {},
   "outputs": [],
   "source": [
    "x_test=pd.DataFrame(data=scaler.transform(x_test),columns=x_test.columns,index=x_test.index)"
   ]
  },
  {
   "cell_type": "code",
   "execution_count": 27,
   "metadata": {},
   "outputs": [
    {
     "data": {
      "text/plain": [
       "Index(['longitude', 'latitude', 'housing_median_age', 'total_rooms',\n",
       "       'total_bedrooms', 'population', 'households', 'median_income',\n",
       "       'median_house_value', 'ocean_proximity'],\n",
       "      dtype='object')"
      ]
     },
     "execution_count": 27,
     "metadata": {},
     "output_type": "execute_result"
    }
   ],
   "source": [
    "housing.columns"
   ]
  },
  {
   "cell_type": "code",
   "execution_count": 28,
   "metadata": {},
   "outputs": [],
   "source": [
    "age=tf.feature_column.numeric_column('housing_median_age')\n",
    "rooms=tf.feature_column.numeric_column('total_rooms')\n",
    "bedrooms=tf.feature_column.numeric_column('total_bedrooms')\n",
    "pop=tf.feature_column.numeric_column('population')\n",
    "households=tf.feature_column.numeric_column('households')\n",
    "income=tf.feature_column.numeric_column('median_income')"
   ]
  },
  {
   "cell_type": "code",
   "execution_count": 29,
   "metadata": {},
   "outputs": [],
   "source": [
    "feat_cols=[age,rooms,bedrooms,pop,households,income]"
   ]
  },
  {
   "cell_type": "code",
   "execution_count": 30,
   "metadata": {},
   "outputs": [],
   "source": [
    "input_func=tf.estimator.inputs.pandas_input_fn(x=x_train,y=y_train,batch_size=10,num_epochs=1000,shuffle=True)"
   ]
  },
  {
   "cell_type": "code",
   "execution_count": 31,
   "metadata": {},
   "outputs": [
    {
     "name": "stdout",
     "output_type": "stream",
     "text": [
      "INFO:tensorflow:Using default config.\n",
      "WARNING:tensorflow:Using temporary folder as model directory: C:\\Users\\codehax\\AppData\\Local\\Temp\\tmp5x9bnovv\n",
      "INFO:tensorflow:Using config: {'_model_dir': 'C:\\\\Users\\\\codehax\\\\AppData\\\\Local\\\\Temp\\\\tmp5x9bnovv', '_tf_random_seed': None, '_save_summary_steps': 100, '_save_checkpoints_steps': None, '_save_checkpoints_secs': 600, '_session_config': allow_soft_placement: true\n",
      "graph_options {\n",
      "  rewrite_options {\n",
      "    meta_optimizer_iterations: ONE\n",
      "  }\n",
      "}\n",
      ", '_keep_checkpoint_max': 5, '_keep_checkpoint_every_n_hours': 10000, '_log_step_count_steps': 100, '_train_distribute': None, '_device_fn': None, '_protocol': None, '_eval_distribute': None, '_experimental_distribute': None, '_service': None, '_cluster_spec': <tensorflow.python.training.server_lib.ClusterSpec object at 0x000002B5738DE780>, '_task_type': 'worker', '_task_id': 0, '_global_id_in_cluster': 0, '_master': '', '_evaluation_master': '', '_is_chief': True, '_num_ps_replicas': 0, '_num_worker_replicas': 1}\n"
     ]
    }
   ],
   "source": [
    "model=tf.estimator.DNNRegressor(hidden_units=[6,6,6], feature_columns=feat_cols)"
   ]
  },
  {
   "cell_type": "code",
   "execution_count": 32,
   "metadata": {},
   "outputs": [
    {
     "name": "stdout",
     "output_type": "stream",
     "text": [
      "INFO:tensorflow:Calling model_fn.\n",
      "INFO:tensorflow:Done calling model_fn.\n",
      "INFO:tensorflow:Create CheckpointSaverHook.\n",
      "INFO:tensorflow:Graph was finalized.\n",
      "INFO:tensorflow:Running local_init_op.\n",
      "INFO:tensorflow:Done running local_init_op.\n",
      "INFO:tensorflow:Saving checkpoints for 0 into C:\\Users\\codehax\\AppData\\Local\\Temp\\tmp5x9bnovv\\model.ckpt.\n",
      "INFO:tensorflow:loss = 472167350000.0, step = 1\n",
      "INFO:tensorflow:global_step/sec: 306.369\n",
      "INFO:tensorflow:loss = 836316700000.0, step = 101 (0.326 sec)\n",
      "INFO:tensorflow:global_step/sec: 379.644\n",
      "INFO:tensorflow:loss = 441210180000.0, step = 201 (0.263 sec)\n",
      "INFO:tensorflow:global_step/sec: 390.038\n",
      "INFO:tensorflow:loss = 653983940000.0, step = 301 (0.256 sec)\n",
      "INFO:tensorflow:global_step/sec: 392.331\n",
      "INFO:tensorflow:loss = 696415600000.0, step = 401 (0.255 sec)\n",
      "INFO:tensorflow:global_step/sec: 256.579\n",
      "INFO:tensorflow:loss = 238791070000.0, step = 501 (0.390 sec)\n",
      "INFO:tensorflow:global_step/sec: 349.421\n",
      "INFO:tensorflow:loss = 392708880000.0, step = 601 (0.291 sec)\n",
      "INFO:tensorflow:global_step/sec: 250.851\n",
      "INFO:tensorflow:loss = 449677200000.0, step = 701 (0.399 sec)\n",
      "INFO:tensorflow:global_step/sec: 342.175\n",
      "INFO:tensorflow:loss = 129770690000.0, step = 801 (0.292 sec)\n",
      "INFO:tensorflow:global_step/sec: 367.23\n",
      "INFO:tensorflow:loss = 162535100000.0, step = 901 (0.267 sec)\n",
      "INFO:tensorflow:global_step/sec: 361.833\n",
      "INFO:tensorflow:loss = 154665940000.0, step = 1001 (0.276 sec)\n",
      "INFO:tensorflow:global_step/sec: 352.443\n",
      "INFO:tensorflow:loss = 59175690000.0, step = 1101 (0.279 sec)\n",
      "INFO:tensorflow:global_step/sec: 361.066\n",
      "INFO:tensorflow:loss = 134147450000.0, step = 1201 (0.282 sec)\n",
      "INFO:tensorflow:global_step/sec: 365.642\n",
      "INFO:tensorflow:loss = 129926270000.0, step = 1301 (0.273 sec)\n",
      "INFO:tensorflow:global_step/sec: 369.376\n",
      "INFO:tensorflow:loss = 107397865000.0, step = 1401 (0.271 sec)\n",
      "INFO:tensorflow:global_step/sec: 351.865\n",
      "INFO:tensorflow:loss = 214595060000.0, step = 1501 (0.284 sec)\n",
      "INFO:tensorflow:global_step/sec: 372.775\n",
      "INFO:tensorflow:loss = 57994908000.0, step = 1601 (0.268 sec)\n",
      "INFO:tensorflow:global_step/sec: 379.374\n",
      "INFO:tensorflow:loss = 102438355000.0, step = 1701 (0.264 sec)\n",
      "INFO:tensorflow:global_step/sec: 330.359\n",
      "INFO:tensorflow:loss = 114044750000.0, step = 1801 (0.308 sec)\n",
      "INFO:tensorflow:global_step/sec: 234.19\n",
      "INFO:tensorflow:loss = 40365550000.0, step = 1901 (0.422 sec)\n",
      "INFO:tensorflow:global_step/sec: 271.069\n",
      "INFO:tensorflow:loss = 19850551000.0, step = 2001 (0.369 sec)\n",
      "INFO:tensorflow:global_step/sec: 374.044\n",
      "INFO:tensorflow:loss = 59012160000.0, step = 2101 (0.267 sec)\n",
      "INFO:tensorflow:global_step/sec: 379.923\n",
      "INFO:tensorflow:loss = 174436090000.0, step = 2201 (0.263 sec)\n",
      "INFO:tensorflow:global_step/sec: 356.816\n",
      "INFO:tensorflow:loss = 101791600000.0, step = 2301 (0.280 sec)\n",
      "INFO:tensorflow:global_step/sec: 383.27\n",
      "INFO:tensorflow:loss = 165261800000.0, step = 2401 (0.266 sec)\n",
      "INFO:tensorflow:global_step/sec: 373.281\n",
      "INFO:tensorflow:loss = 36353327000.0, step = 2501 (0.263 sec)\n",
      "INFO:tensorflow:global_step/sec: 376.95\n",
      "INFO:tensorflow:loss = 78478490000.0, step = 2601 (0.260 sec)\n",
      "INFO:tensorflow:global_step/sec: 354.92\n",
      "INFO:tensorflow:loss = 41223135000.0, step = 2701 (0.287 sec)\n",
      "INFO:tensorflow:global_step/sec: 384.596\n",
      "INFO:tensorflow:loss = 72443260000.0, step = 2801 (0.260 sec)\n",
      "INFO:tensorflow:global_step/sec: 380.683\n",
      "INFO:tensorflow:loss = 71640695000.0, step = 2901 (0.268 sec)\n",
      "INFO:tensorflow:global_step/sec: 374.545\n",
      "INFO:tensorflow:loss = 132971460000.0, step = 3001 (0.262 sec)\n",
      "INFO:tensorflow:global_step/sec: 369.374\n",
      "INFO:tensorflow:loss = 306856800000.0, step = 3101 (0.276 sec)\n",
      "INFO:tensorflow:global_step/sec: 373.514\n",
      "INFO:tensorflow:loss = 112507010000.0, step = 3201 (0.268 sec)\n",
      "INFO:tensorflow:global_step/sec: 379.755\n",
      "INFO:tensorflow:loss = 113505230000.0, step = 3301 (0.258 sec)\n",
      "INFO:tensorflow:global_step/sec: 378.973\n",
      "INFO:tensorflow:loss = 108200030000.0, step = 3401 (0.269 sec)\n",
      "INFO:tensorflow:global_step/sec: 373.093\n",
      "INFO:tensorflow:loss = 97496910000.0, step = 3501 (0.263 sec)\n",
      "INFO:tensorflow:global_step/sec: 377.886\n",
      "INFO:tensorflow:loss = 210125590000.0, step = 3601 (0.265 sec)\n",
      "INFO:tensorflow:global_step/sec: 380.685\n",
      "INFO:tensorflow:loss = 154608160000.0, step = 3701 (0.263 sec)\n",
      "INFO:tensorflow:global_step/sec: 339.047\n",
      "INFO:tensorflow:loss = 128728020000.0, step = 3801 (0.295 sec)\n",
      "INFO:tensorflow:global_step/sec: 369.962\n",
      "INFO:tensorflow:loss = 102258280000.0, step = 3901 (0.281 sec)\n",
      "INFO:tensorflow:global_step/sec: 298.916\n",
      "INFO:tensorflow:loss = 91454145000.0, step = 4001 (0.329 sec)\n",
      "INFO:tensorflow:global_step/sec: 360.956\n",
      "INFO:tensorflow:loss = 71331260000.0, step = 4101 (0.277 sec)\n",
      "INFO:tensorflow:global_step/sec: 365.192\n",
      "INFO:tensorflow:loss = 42416038000.0, step = 4201 (0.269 sec)\n",
      "INFO:tensorflow:global_step/sec: 362.2\n",
      "INFO:tensorflow:loss = 51351760000.0, step = 4301 (0.281 sec)\n",
      "INFO:tensorflow:global_step/sec: 363.314\n",
      "INFO:tensorflow:loss = 113020090000.0, step = 4401 (0.275 sec)\n",
      "INFO:tensorflow:global_step/sec: 363.285\n",
      "INFO:tensorflow:loss = 132391900000.0, step = 4501 (0.275 sec)\n",
      "INFO:tensorflow:global_step/sec: 365.551\n",
      "INFO:tensorflow:loss = 129325660000.0, step = 4601 (0.274 sec)\n",
      "INFO:tensorflow:global_step/sec: 364.597\n",
      "INFO:tensorflow:loss = 98341210000.0, step = 4701 (0.274 sec)\n",
      "INFO:tensorflow:global_step/sec: 356.935\n",
      "INFO:tensorflow:loss = 79785435000.0, step = 4801 (0.270 sec)\n",
      "INFO:tensorflow:global_step/sec: 369.129\n",
      "INFO:tensorflow:loss = 190709760000.0, step = 4901 (0.276 sec)\n",
      "INFO:tensorflow:global_step/sec: 350.861\n",
      "INFO:tensorflow:loss = 86385380000.0, step = 5001 (0.290 sec)\n",
      "INFO:tensorflow:global_step/sec: 262.399\n",
      "INFO:tensorflow:loss = 98687730000.0, step = 5101 (0.381 sec)\n",
      "INFO:tensorflow:global_step/sec: 318.51\n",
      "INFO:tensorflow:loss = 53002730000.0, step = 5201 (0.309 sec)\n",
      "INFO:tensorflow:global_step/sec: 363.998\n",
      "INFO:tensorflow:loss = 326981700000.0, step = 5301 (0.275 sec)\n",
      "INFO:tensorflow:global_step/sec: 373.87\n",
      "INFO:tensorflow:loss = 200519420000.0, step = 5401 (0.272 sec)\n",
      "INFO:tensorflow:global_step/sec: 375.284\n",
      "INFO:tensorflow:loss = 127343140000.0, step = 5501 (0.261 sec)\n",
      "INFO:tensorflow:global_step/sec: 377.629\n",
      "INFO:tensorflow:loss = 86725960000.0, step = 5601 (0.265 sec)\n",
      "INFO:tensorflow:global_step/sec: 379.051\n",
      "INFO:tensorflow:loss = 85908540000.0, step = 5701 (0.264 sec)\n",
      "INFO:tensorflow:global_step/sec: 330.673\n",
      "INFO:tensorflow:loss = 87855070000.0, step = 5801 (0.302 sec)\n",
      "INFO:tensorflow:global_step/sec: 357.862\n",
      "INFO:tensorflow:loss = 36150223000.0, step = 5901 (0.284 sec)\n",
      "INFO:tensorflow:global_step/sec: 345.047\n",
      "INFO:tensorflow:loss = 87072590000.0, step = 6001 (0.285 sec)\n",
      "INFO:tensorflow:global_step/sec: 351.081\n",
      "INFO:tensorflow:loss = 98178810000.0, step = 6101 (0.284 sec)\n",
      "INFO:tensorflow:global_step/sec: 357.693\n",
      "INFO:tensorflow:loss = 110357410000.0, step = 6201 (0.281 sec)\n",
      "INFO:tensorflow:global_step/sec: 355.828\n",
      "INFO:tensorflow:loss = 174894970000.0, step = 6301 (0.281 sec)\n",
      "INFO:tensorflow:global_step/sec: 339.181\n",
      "INFO:tensorflow:loss = 41474777000.0, step = 6401 (0.295 sec)\n",
      "INFO:tensorflow:global_step/sec: 356.308\n",
      "INFO:tensorflow:loss = 98108056000.0, step = 6501 (0.281 sec)\n",
      "INFO:tensorflow:global_step/sec: 364.096\n",
      "INFO:tensorflow:loss = 79519970000.0, step = 6601 (0.280 sec)\n",
      "INFO:tensorflow:global_step/sec: 359.496\n",
      "INFO:tensorflow:loss = 119593116000.0, step = 6701 (0.284 sec)\n",
      "INFO:tensorflow:global_step/sec: 337.167\n",
      "INFO:tensorflow:loss = 49163610000.0, step = 6801 (0.286 sec)\n",
      "INFO:tensorflow:global_step/sec: 363.883\n",
      "INFO:tensorflow:loss = 146024700000.0, step = 6901 (0.275 sec)\n",
      "INFO:tensorflow:global_step/sec: 344.381\n",
      "INFO:tensorflow:loss = 129650246000.0, step = 7001 (0.290 sec)\n",
      "INFO:tensorflow:global_step/sec: 333.795\n",
      "INFO:tensorflow:loss = 101764350000.0, step = 7101 (0.305 sec)\n",
      "INFO:tensorflow:global_step/sec: 352.235\n",
      "INFO:tensorflow:loss = 134574130000.0, step = 7201 (0.279 sec)\n",
      "INFO:tensorflow:global_step/sec: 355.68\n",
      "INFO:tensorflow:loss = 142972170000.0, step = 7301 (0.281 sec)\n",
      "INFO:tensorflow:global_step/sec: 364.237\n",
      "INFO:tensorflow:loss = 104230810000.0, step = 7401 (0.285 sec)\n",
      "INFO:tensorflow:global_step/sec: 338.12\n",
      "INFO:tensorflow:loss = 40583737000.0, step = 7501 (0.291 sec)\n",
      "INFO:tensorflow:global_step/sec: 339.234\n",
      "INFO:tensorflow:loss = 85632590000.0, step = 7601 (0.289 sec)\n"
     ]
    },
    {
     "name": "stdout",
     "output_type": "stream",
     "text": [
      "INFO:tensorflow:global_step/sec: 361.756\n",
      "INFO:tensorflow:loss = 150287780000.0, step = 7701 (0.282 sec)\n",
      "INFO:tensorflow:global_step/sec: 353.025\n",
      "INFO:tensorflow:loss = 92383535000.0, step = 7801 (0.283 sec)\n",
      "INFO:tensorflow:global_step/sec: 362.899\n",
      "INFO:tensorflow:loss = 135003770000.0, step = 7901 (0.271 sec)\n",
      "INFO:tensorflow:global_step/sec: 351.247\n",
      "INFO:tensorflow:loss = 55135690000.0, step = 8001 (0.285 sec)\n",
      "INFO:tensorflow:global_step/sec: 372.086\n",
      "INFO:tensorflow:loss = 97003440000.0, step = 8101 (0.270 sec)\n",
      "INFO:tensorflow:global_step/sec: 350.257\n",
      "INFO:tensorflow:loss = 133666780000.0, step = 8201 (0.284 sec)\n",
      "INFO:tensorflow:global_step/sec: 359.966\n",
      "INFO:tensorflow:loss = 123690890000.0, step = 8301 (0.283 sec)\n",
      "INFO:tensorflow:global_step/sec: 354.191\n",
      "INFO:tensorflow:loss = 107702050000.0, step = 8401 (0.272 sec)\n",
      "INFO:tensorflow:global_step/sec: 338.565\n",
      "INFO:tensorflow:loss = 233248330000.0, step = 8501 (0.305 sec)\n",
      "INFO:tensorflow:global_step/sec: 344.386\n",
      "INFO:tensorflow:loss = 178566400000.0, step = 8601 (0.285 sec)\n",
      "INFO:tensorflow:global_step/sec: 328.491\n",
      "INFO:tensorflow:loss = 57078624000.0, step = 8701 (0.304 sec)\n",
      "INFO:tensorflow:global_step/sec: 302.448\n",
      "INFO:tensorflow:loss = 48670945000.0, step = 8801 (0.334 sec)\n",
      "INFO:tensorflow:global_step/sec: 328.312\n",
      "INFO:tensorflow:loss = 119571520000.0, step = 8901 (0.325 sec)\n",
      "INFO:tensorflow:global_step/sec: 306.697\n",
      "INFO:tensorflow:loss = 124963865000.0, step = 9001 (0.301 sec)\n",
      "INFO:tensorflow:global_step/sec: 334.839\n",
      "INFO:tensorflow:loss = 143514900000.0, step = 9101 (0.299 sec)\n",
      "INFO:tensorflow:global_step/sec: 170.735\n",
      "INFO:tensorflow:loss = 68468474000.0, step = 9201 (0.591 sec)\n",
      "INFO:tensorflow:global_step/sec: 247.563\n",
      "INFO:tensorflow:loss = 60719944000.0, step = 9301 (0.404 sec)\n",
      "INFO:tensorflow:global_step/sec: 289.672\n",
      "INFO:tensorflow:loss = 174908010000.0, step = 9401 (0.345 sec)\n",
      "INFO:tensorflow:global_step/sec: 333.354\n",
      "INFO:tensorflow:loss = 76977275000.0, step = 9501 (0.295 sec)\n",
      "INFO:tensorflow:global_step/sec: 348.303\n",
      "INFO:tensorflow:loss = 65871503000.0, step = 9601 (0.287 sec)\n",
      "INFO:tensorflow:global_step/sec: 267.425\n",
      "INFO:tensorflow:loss = 27221623000.0, step = 9701 (0.379 sec)\n",
      "INFO:tensorflow:global_step/sec: 306.228\n",
      "INFO:tensorflow:loss = 68017033000.0, step = 9801 (0.324 sec)\n",
      "INFO:tensorflow:global_step/sec: 213.808\n",
      "INFO:tensorflow:loss = 96310940000.0, step = 9901 (0.465 sec)\n",
      "INFO:tensorflow:global_step/sec: 350.489\n",
      "INFO:tensorflow:loss = 47855530000.0, step = 10001 (0.285 sec)\n",
      "INFO:tensorflow:global_step/sec: 344.849\n",
      "INFO:tensorflow:loss = 102242960000.0, step = 10101 (0.295 sec)\n",
      "INFO:tensorflow:global_step/sec: 250.208\n",
      "INFO:tensorflow:loss = 78931840000.0, step = 10201 (0.395 sec)\n",
      "INFO:tensorflow:global_step/sec: 326.398\n",
      "INFO:tensorflow:loss = 109192810000.0, step = 10301 (0.321 sec)\n",
      "INFO:tensorflow:global_step/sec: 232.994\n",
      "INFO:tensorflow:loss = 133130430000.0, step = 10401 (0.414 sec)\n",
      "INFO:tensorflow:global_step/sec: 339.51\n",
      "INFO:tensorflow:loss = 121340380000.0, step = 10501 (0.305 sec)\n",
      "INFO:tensorflow:global_step/sec: 217.295\n",
      "INFO:tensorflow:loss = 33899483000.0, step = 10601 (0.450 sec)\n",
      "INFO:tensorflow:global_step/sec: 297.685\n",
      "INFO:tensorflow:loss = 89847140000.0, step = 10701 (0.336 sec)\n",
      "INFO:tensorflow:global_step/sec: 323.88\n",
      "INFO:tensorflow:loss = 126259315000.0, step = 10801 (0.309 sec)\n",
      "INFO:tensorflow:global_step/sec: 303.178\n",
      "INFO:tensorflow:loss = 71896780000.0, step = 10901 (0.335 sec)\n",
      "INFO:tensorflow:global_step/sec: 334.472\n",
      "INFO:tensorflow:loss = 82111310000.0, step = 11001 (0.294 sec)\n",
      "INFO:tensorflow:global_step/sec: 301.785\n",
      "INFO:tensorflow:loss = 58323250000.0, step = 11101 (0.331 sec)\n",
      "INFO:tensorflow:global_step/sec: 344.935\n",
      "INFO:tensorflow:loss = 54269600000.0, step = 11201 (0.295 sec)\n",
      "INFO:tensorflow:global_step/sec: 343.652\n",
      "INFO:tensorflow:loss = 53296670000.0, step = 11301 (0.290 sec)\n",
      "INFO:tensorflow:global_step/sec: 338.348\n",
      "INFO:tensorflow:loss = 80341926000.0, step = 11401 (0.292 sec)\n",
      "INFO:tensorflow:global_step/sec: 353.152\n",
      "INFO:tensorflow:loss = 40209207000.0, step = 11501 (0.283 sec)\n",
      "INFO:tensorflow:global_step/sec: 338.73\n",
      "INFO:tensorflow:loss = 115943790000.0, step = 11601 (0.295 sec)\n",
      "INFO:tensorflow:global_step/sec: 316.223\n",
      "INFO:tensorflow:loss = 60960960000.0, step = 11701 (0.341 sec)\n",
      "INFO:tensorflow:global_step/sec: 302.768\n",
      "INFO:tensorflow:loss = 42371050000.0, step = 11801 (0.310 sec)\n",
      "INFO:tensorflow:global_step/sec: 334.032\n",
      "INFO:tensorflow:loss = 165939360000.0, step = 11901 (0.294 sec)\n",
      "INFO:tensorflow:global_step/sec: 351.788\n",
      "INFO:tensorflow:loss = 95686680000.0, step = 12001 (0.289 sec)\n",
      "INFO:tensorflow:global_step/sec: 356.236\n",
      "INFO:tensorflow:loss = 112728050000.0, step = 12101 (0.276 sec)\n",
      "INFO:tensorflow:global_step/sec: 365.207\n",
      "INFO:tensorflow:loss = 75521480000.0, step = 12201 (0.279 sec)\n",
      "INFO:tensorflow:global_step/sec: 306.938\n",
      "INFO:tensorflow:loss = 247454250000.0, step = 12301 (0.321 sec)\n",
      "INFO:tensorflow:global_step/sec: 317.606\n",
      "INFO:tensorflow:loss = 78872396000.0, step = 12401 (0.320 sec)\n",
      "INFO:tensorflow:global_step/sec: 324.959\n",
      "INFO:tensorflow:loss = 107058310000.0, step = 12501 (0.308 sec)\n",
      "INFO:tensorflow:global_step/sec: 292.018\n",
      "INFO:tensorflow:loss = 83853100000.0, step = 12601 (0.337 sec)\n",
      "INFO:tensorflow:global_step/sec: 333.627\n",
      "INFO:tensorflow:loss = 101404020000.0, step = 12701 (0.300 sec)\n",
      "INFO:tensorflow:global_step/sec: 259.384\n",
      "INFO:tensorflow:loss = 83763260000.0, step = 12801 (0.386 sec)\n",
      "INFO:tensorflow:global_step/sec: 335.644\n",
      "INFO:tensorflow:loss = 45277778000.0, step = 12901 (0.293 sec)\n",
      "INFO:tensorflow:global_step/sec: 336.697\n",
      "INFO:tensorflow:loss = 75726790000.0, step = 13001 (0.309 sec)\n",
      "INFO:tensorflow:global_step/sec: 339.447\n",
      "INFO:tensorflow:loss = 146490230000.0, step = 13101 (0.288 sec)\n",
      "INFO:tensorflow:global_step/sec: 345.079\n",
      "INFO:tensorflow:loss = 106967060000.0, step = 13201 (0.290 sec)\n",
      "INFO:tensorflow:global_step/sec: 345.018\n",
      "INFO:tensorflow:loss = 39261790000.0, step = 13301 (0.290 sec)\n",
      "INFO:tensorflow:global_step/sec: 333.302\n",
      "INFO:tensorflow:loss = 156509910000.0, step = 13401 (0.300 sec)\n",
      "INFO:tensorflow:global_step/sec: 345.698\n",
      "INFO:tensorflow:loss = 87038230000.0, step = 13501 (0.295 sec)\n",
      "INFO:tensorflow:global_step/sec: 343.235\n",
      "INFO:tensorflow:loss = 93228490000.0, step = 13601 (0.285 sec)\n",
      "INFO:tensorflow:global_step/sec: 332.634\n",
      "INFO:tensorflow:loss = 139795970000.0, step = 13701 (0.313 sec)\n",
      "INFO:tensorflow:global_step/sec: 313.86\n",
      "INFO:tensorflow:loss = 117906070000.0, step = 13801 (0.307 sec)\n",
      "INFO:tensorflow:global_step/sec: 343.142\n",
      "INFO:tensorflow:loss = 55372268000.0, step = 13901 (0.291 sec)\n",
      "INFO:tensorflow:global_step/sec: 334.201\n",
      "INFO:tensorflow:loss = 43608625000.0, step = 14001 (0.294 sec)\n",
      "INFO:tensorflow:global_step/sec: 358.596\n",
      "INFO:tensorflow:loss = 129061680000.0, step = 14101 (0.289 sec)\n",
      "INFO:tensorflow:global_step/sec: 328.02\n",
      "INFO:tensorflow:loss = 147265980000.0, step = 14201 (0.301 sec)\n",
      "INFO:tensorflow:global_step/sec: 349.869\n",
      "INFO:tensorflow:loss = 52508336000.0, step = 14301 (0.285 sec)\n",
      "INFO:tensorflow:global_step/sec: 351.001\n",
      "INFO:tensorflow:loss = 76325030000.0, step = 14401 (0.285 sec)\n",
      "INFO:tensorflow:global_step/sec: 351.082\n",
      "INFO:tensorflow:loss = 56260452000.0, step = 14501 (0.285 sec)\n",
      "INFO:tensorflow:global_step/sec: 344.59\n",
      "INFO:tensorflow:loss = 60888390000.0, step = 14601 (0.290 sec)\n",
      "INFO:tensorflow:global_step/sec: 343.999\n",
      "INFO:tensorflow:loss = 140573430000.0, step = 14701 (0.291 sec)\n",
      "INFO:tensorflow:global_step/sec: 327.852\n",
      "INFO:tensorflow:loss = 110207615000.0, step = 14801 (0.310 sec)\n",
      "INFO:tensorflow:global_step/sec: 311.698\n",
      "INFO:tensorflow:loss = 118390690000.0, step = 14901 (0.315 sec)\n",
      "INFO:tensorflow:global_step/sec: 329.115\n",
      "INFO:tensorflow:loss = 119738010000.0, step = 15001 (0.304 sec)\n",
      "INFO:tensorflow:global_step/sec: 322.498\n",
      "INFO:tensorflow:loss = 78120075000.0, step = 15101 (0.310 sec)\n",
      "INFO:tensorflow:global_step/sec: 338.272\n",
      "INFO:tensorflow:loss = 81034895000.0, step = 15201 (0.309 sec)\n",
      "INFO:tensorflow:global_step/sec: 278.012\n",
      "INFO:tensorflow:loss = 143792160000.0, step = 15301 (0.352 sec)\n",
      "INFO:tensorflow:global_step/sec: 305.772\n",
      "INFO:tensorflow:loss = 165700910000.0, step = 15401 (0.321 sec)\n",
      "INFO:tensorflow:global_step/sec: 328.46\n",
      "INFO:tensorflow:loss = 30737388000.0, step = 15501 (0.305 sec)\n"
     ]
    },
    {
     "name": "stdout",
     "output_type": "stream",
     "text": [
      "INFO:tensorflow:global_step/sec: 306.721\n",
      "INFO:tensorflow:loss = 113656740000.0, step = 15601 (0.327 sec)\n",
      "INFO:tensorflow:global_step/sec: 330.583\n",
      "INFO:tensorflow:loss = 37964788000.0, step = 15701 (0.309 sec)\n",
      "INFO:tensorflow:global_step/sec: 318.278\n",
      "INFO:tensorflow:loss = 89172570000.0, step = 15801 (0.308 sec)\n",
      "INFO:tensorflow:global_step/sec: 332.737\n",
      "INFO:tensorflow:loss = 185589830000.0, step = 15901 (0.299 sec)\n",
      "INFO:tensorflow:global_step/sec: 339.383\n",
      "INFO:tensorflow:loss = 101225120000.0, step = 16001 (0.303 sec)\n",
      "INFO:tensorflow:global_step/sec: 333.228\n",
      "INFO:tensorflow:loss = 96241620000.0, step = 16101 (0.297 sec)\n",
      "INFO:tensorflow:global_step/sec: 333.678\n",
      "INFO:tensorflow:loss = 59052368000.0, step = 16201 (0.295 sec)\n",
      "INFO:tensorflow:global_step/sec: 315.783\n",
      "INFO:tensorflow:loss = 28554185000.0, step = 16301 (0.322 sec)\n",
      "INFO:tensorflow:global_step/sec: 307.854\n",
      "INFO:tensorflow:loss = 49687980000.0, step = 16401 (0.320 sec)\n",
      "INFO:tensorflow:global_step/sec: 290.333\n",
      "INFO:tensorflow:loss = 36610680000.0, step = 16501 (0.344 sec)\n",
      "INFO:tensorflow:global_step/sec: 338.279\n",
      "INFO:tensorflow:loss = 225604900000.0, step = 16601 (0.291 sec)\n",
      "INFO:tensorflow:global_step/sec: 338.562\n",
      "INFO:tensorflow:loss = 58062460000.0, step = 16701 (0.300 sec)\n",
      "INFO:tensorflow:global_step/sec: 323.488\n",
      "INFO:tensorflow:loss = 42498650000.0, step = 16801 (0.314 sec)\n",
      "INFO:tensorflow:global_step/sec: 329.15\n",
      "INFO:tensorflow:loss = 61048553000.0, step = 16901 (0.299 sec)\n",
      "INFO:tensorflow:global_step/sec: 338.728\n",
      "INFO:tensorflow:loss = 32227385000.0, step = 17001 (0.295 sec)\n",
      "INFO:tensorflow:global_step/sec: 334.702\n",
      "INFO:tensorflow:loss = 117187920000.0, step = 17101 (0.294 sec)\n",
      "INFO:tensorflow:global_step/sec: 349.194\n",
      "INFO:tensorflow:loss = 54917400000.0, step = 17201 (0.291 sec)\n",
      "INFO:tensorflow:global_step/sec: 323.096\n",
      "INFO:tensorflow:loss = 78930510000.0, step = 17301 (0.315 sec)\n",
      "INFO:tensorflow:global_step/sec: 344.241\n",
      "INFO:tensorflow:loss = 128337880000.0, step = 17401 (0.285 sec)\n",
      "INFO:tensorflow:global_step/sec: 351.054\n",
      "INFO:tensorflow:loss = 48964830000.0, step = 17501 (0.285 sec)\n",
      "INFO:tensorflow:global_step/sec: 340.381\n",
      "INFO:tensorflow:loss = 111178130000.0, step = 17601 (0.294 sec)\n",
      "INFO:tensorflow:global_step/sec: 336.922\n",
      "INFO:tensorflow:loss = 64131410000.0, step = 17701 (0.300 sec)\n",
      "INFO:tensorflow:global_step/sec: 340.085\n",
      "INFO:tensorflow:loss = 65030020000.0, step = 17801 (0.291 sec)\n",
      "INFO:tensorflow:global_step/sec: 355.933\n",
      "INFO:tensorflow:loss = 85815110000.0, step = 17901 (0.287 sec)\n",
      "INFO:tensorflow:global_step/sec: 339.447\n",
      "INFO:tensorflow:loss = 44628894000.0, step = 18001 (0.288 sec)\n",
      "INFO:tensorflow:global_step/sec: 329.085\n",
      "INFO:tensorflow:loss = 83612120000.0, step = 18101 (0.304 sec)\n",
      "INFO:tensorflow:global_step/sec: 332.268\n",
      "INFO:tensorflow:loss = 51327930000.0, step = 18201 (0.301 sec)\n",
      "INFO:tensorflow:global_step/sec: 342.48\n",
      "INFO:tensorflow:loss = 77335450000.0, step = 18301 (0.295 sec)\n",
      "INFO:tensorflow:global_step/sec: 340.794\n",
      "INFO:tensorflow:loss = 71120765000.0, step = 18401 (0.290 sec)\n",
      "INFO:tensorflow:global_step/sec: 338.629\n",
      "INFO:tensorflow:loss = 63222610000.0, step = 18501 (0.295 sec)\n",
      "INFO:tensorflow:global_step/sec: 323.621\n",
      "INFO:tensorflow:loss = 50789286000.0, step = 18601 (0.309 sec)\n",
      "INFO:tensorflow:global_step/sec: 344.891\n",
      "INFO:tensorflow:loss = 118033460000.0, step = 18701 (0.290 sec)\n",
      "INFO:tensorflow:global_step/sec: 348.465\n",
      "INFO:tensorflow:loss = 111870840000.0, step = 18801 (0.287 sec)\n",
      "INFO:tensorflow:global_step/sec: 345.721\n",
      "INFO:tensorflow:loss = 150781070000.0, step = 18901 (0.289 sec)\n",
      "INFO:tensorflow:global_step/sec: 345.862\n",
      "INFO:tensorflow:loss = 27468857000.0, step = 19001 (0.289 sec)\n",
      "INFO:tensorflow:global_step/sec: 338.042\n",
      "INFO:tensorflow:loss = 124838840000.0, step = 19101 (0.301 sec)\n",
      "INFO:tensorflow:global_step/sec: 341.466\n",
      "INFO:tensorflow:loss = 81452564000.0, step = 19201 (0.290 sec)\n",
      "INFO:tensorflow:global_step/sec: 359.635\n",
      "INFO:tensorflow:loss = 81368170000.0, step = 19301 (0.281 sec)\n",
      "INFO:tensorflow:global_step/sec: 357.813\n",
      "INFO:tensorflow:loss = 151463600000.0, step = 19401 (0.274 sec)\n",
      "INFO:tensorflow:global_step/sec: 334.966\n",
      "INFO:tensorflow:loss = 50513277000.0, step = 19501 (0.299 sec)\n",
      "INFO:tensorflow:global_step/sec: 345.525\n",
      "INFO:tensorflow:loss = 89709920000.0, step = 19601 (0.289 sec)\n",
      "INFO:tensorflow:global_step/sec: 348.101\n",
      "INFO:tensorflow:loss = 59388416000.0, step = 19701 (0.282 sec)\n",
      "INFO:tensorflow:global_step/sec: 319.141\n",
      "INFO:tensorflow:loss = 39571456000.0, step = 19801 (0.318 sec)\n",
      "INFO:tensorflow:global_step/sec: 344.201\n",
      "INFO:tensorflow:loss = 60129220000.0, step = 19901 (0.296 sec)\n",
      "INFO:tensorflow:Saving checkpoints for 20000 into C:\\Users\\codehax\\AppData\\Local\\Temp\\tmp5x9bnovv\\model.ckpt.\n",
      "INFO:tensorflow:Loss for final step: 61470368000.0.\n"
     ]
    },
    {
     "data": {
      "text/plain": [
       "<tensorflow.python.estimator.canned.dnn.DNNRegressor at 0x2b5738b18d0>"
      ]
     },
     "execution_count": 32,
     "metadata": {},
     "output_type": "execute_result"
    }
   ],
   "source": [
    "model.train(input_fn=input_func,steps=20000)"
   ]
  },
  {
   "cell_type": "code",
   "execution_count": 34,
   "metadata": {},
   "outputs": [],
   "source": [
    "predict_input_func=tf.estimator.inputs.pandas_input_fn(x=x_test,batch_size=10,num_epochs=1,shuffle=False)\n",
    "pred_gen=model.predict(predict_input_func)"
   ]
  },
  {
   "cell_type": "code",
   "execution_count": 35,
   "metadata": {},
   "outputs": [
    {
     "name": "stdout",
     "output_type": "stream",
     "text": [
      "INFO:tensorflow:Calling model_fn.\n",
      "INFO:tensorflow:Done calling model_fn.\n",
      "INFO:tensorflow:Graph was finalized.\n",
      "INFO:tensorflow:Restoring parameters from C:\\Users\\codehax\\AppData\\Local\\Temp\\tmp5x9bnovv\\model.ckpt-20000\n",
      "INFO:tensorflow:Running local_init_op.\n",
      "INFO:tensorflow:Done running local_init_op.\n"
     ]
    }
   ],
   "source": [
    "predictions=list(pred_gen)"
   ]
  },
  {
   "cell_type": "code",
   "execution_count": 38,
   "metadata": {},
   "outputs": [],
   "source": [
    "final_pres=[]\n",
    "for pred in predictions:\n",
    "    final_pres.append(pred['predictions'])"
   ]
  },
  {
   "cell_type": "code",
   "execution_count": 39,
   "metadata": {},
   "outputs": [],
   "source": [
    "from sklearn.metrics import mean_squared_error"
   ]
  },
  {
   "cell_type": "code",
   "execution_count": 41,
   "metadata": {},
   "outputs": [
    {
     "data": {
      "text/plain": [
       "97572.8054075729"
      ]
     },
     "execution_count": 41,
     "metadata": {},
     "output_type": "execute_result"
    }
   ],
   "source": [
    "mean_squared_error(y_test,final_pres)**0.5"
   ]
  },
  {
   "cell_type": "code",
   "execution_count": null,
   "metadata": {},
   "outputs": [],
   "source": []
  }
 ],
 "metadata": {
  "kernelspec": {
   "display_name": "Python 3",
   "language": "python",
   "name": "python3"
  },
  "language_info": {
   "codemirror_mode": {
    "name": "ipython",
    "version": 3
   },
   "file_extension": ".py",
   "mimetype": "text/x-python",
   "name": "python",
   "nbconvert_exporter": "python",
   "pygments_lexer": "ipython3",
   "version": "3.6.5"
  }
 },
 "nbformat": 4,
 "nbformat_minor": 2
}
