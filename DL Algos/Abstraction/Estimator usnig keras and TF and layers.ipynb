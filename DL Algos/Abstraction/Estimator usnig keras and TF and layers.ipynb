{
 "cells": [
  {
   "cell_type": "code",
   "execution_count": 2,
   "metadata": {},
   "outputs": [],
   "source": [
    "from sklearn.datasets import load_wine\n",
    "wine_data=load_wine()"
   ]
  },
  {
   "cell_type": "code",
   "execution_count": 4,
   "metadata": {},
   "outputs": [
    {
     "data": {
      "text/plain": [
       "dict_keys(['data', 'target', 'target_names', 'DESCR', 'feature_names'])"
      ]
     },
     "execution_count": 4,
     "metadata": {},
     "output_type": "execute_result"
    }
   ],
   "source": [
    "wine_data.keys()"
   ]
  },
  {
   "cell_type": "code",
   "execution_count": 6,
   "metadata": {},
   "outputs": [
    {
     "name": "stdout",
     "output_type": "stream",
     "text": [
      ".. _wine_dataset:\n",
      "\n",
      "Wine recognition dataset\n",
      "------------------------\n",
      "\n",
      "**Data Set Characteristics:**\n",
      "\n",
      "    :Number of Instances: 178 (50 in each of three classes)\n",
      "    :Number of Attributes: 13 numeric, predictive attributes and the class\n",
      "    :Attribute Information:\n",
      " \t\t- Alcohol\n",
      " \t\t- Malic acid\n",
      " \t\t- Ash\n",
      "\t\t- Alcalinity of ash  \n",
      " \t\t- Magnesium\n",
      "\t\t- Total phenols\n",
      " \t\t- Flavanoids\n",
      " \t\t- Nonflavanoid phenols\n",
      " \t\t- Proanthocyanins\n",
      "\t\t- Color intensity\n",
      " \t\t- Hue\n",
      " \t\t- OD280/OD315 of diluted wines\n",
      " \t\t- Proline\n",
      "\n",
      "    - class:\n",
      "            - class_0\n",
      "            - class_1\n",
      "            - class_2\n",
      "\t\t\n",
      "    :Summary Statistics:\n",
      "    \n",
      "    ============================= ==== ===== ======= =====\n",
      "                                   Min   Max   Mean     SD\n",
      "    ============================= ==== ===== ======= =====\n",
      "    Alcohol:                      11.0  14.8    13.0   0.8\n",
      "    Malic Acid:                   0.74  5.80    2.34  1.12\n",
      "    Ash:                          1.36  3.23    2.36  0.27\n",
      "    Alcalinity of Ash:            10.6  30.0    19.5   3.3\n",
      "    Magnesium:                    70.0 162.0    99.7  14.3\n",
      "    Total Phenols:                0.98  3.88    2.29  0.63\n",
      "    Flavanoids:                   0.34  5.08    2.03  1.00\n",
      "    Nonflavanoid Phenols:         0.13  0.66    0.36  0.12\n",
      "    Proanthocyanins:              0.41  3.58    1.59  0.57\n",
      "    Colour Intensity:              1.3  13.0     5.1   2.3\n",
      "    Hue:                          0.48  1.71    0.96  0.23\n",
      "    OD280/OD315 of diluted wines: 1.27  4.00    2.61  0.71\n",
      "    Proline:                       278  1680     746   315\n",
      "    ============================= ==== ===== ======= =====\n",
      "\n",
      "    :Missing Attribute Values: None\n",
      "    :Class Distribution: class_0 (59), class_1 (71), class_2 (48)\n",
      "    :Creator: R.A. Fisher\n",
      "    :Donor: Michael Marshall (MARSHALL%PLU@io.arc.nasa.gov)\n",
      "    :Date: July, 1988\n",
      "\n",
      "This is a copy of UCI ML Wine recognition datasets.\n",
      "https://archive.ics.uci.edu/ml/machine-learning-databases/wine/wine.data\n",
      "\n",
      "The data is the results of a chemical analysis of wines grown in the same\n",
      "region in Italy by three different cultivators. There are thirteen different\n",
      "measurements taken for different constituents found in the three types of\n",
      "wine.\n",
      "\n",
      "Original Owners: \n",
      "\n",
      "Forina, M. et al, PARVUS - \n",
      "An Extendible Package for Data Exploration, Classification and Correlation. \n",
      "Institute of Pharmaceutical and Food Analysis and Technologies,\n",
      "Via Brigata Salerno, 16147 Genoa, Italy.\n",
      "\n",
      "Citation:\n",
      "\n",
      "Lichman, M. (2013). UCI Machine Learning Repository\n",
      "[http://archive.ics.uci.edu/ml]. Irvine, CA: University of California,\n",
      "School of Information and Computer Science. \n",
      "\n",
      ".. topic:: References\n",
      "\n",
      "  (1) S. Aeberhard, D. Coomans and O. de Vel, \n",
      "  Comparison of Classifiers in High Dimensional Settings, \n",
      "  Tech. Rep. no. 92-02, (1992), Dept. of Computer Science and Dept. of  \n",
      "  Mathematics and Statistics, James Cook University of North Queensland. \n",
      "  (Also submitted to Technometrics). \n",
      "\n",
      "  The data was used with many others for comparing various \n",
      "  classifiers. The classes are separable, though only RDA \n",
      "  has achieved 100% correct classification. \n",
      "  (RDA : 100%, QDA 99.4%, LDA 98.9%, 1NN 96.1% (z-transformed data)) \n",
      "  (All results using the leave-one-out technique) \n",
      "\n",
      "  (2) S. Aeberhard, D. Coomans and O. de Vel, \n",
      "  \"THE CLASSIFICATION PERFORMANCE OF RDA\" \n",
      "  Tech. Rep. no. 92-01, (1992), Dept. of Computer Science and Dept. of \n",
      "  Mathematics and Statistics, James Cook University of North Queensland. \n",
      "  (Also submitted to Journal of Chemometrics).\n",
      "\n"
     ]
    }
   ],
   "source": [
    "print(wine_data['DESCR'])"
   ]
  },
  {
   "cell_type": "code",
   "execution_count": 7,
   "metadata": {},
   "outputs": [],
   "source": [
    "feat_data=wine_data['data']"
   ]
  },
  {
   "cell_type": "code",
   "execution_count": 8,
   "metadata": {},
   "outputs": [],
   "source": [
    "labels=wine_data['target']"
   ]
  },
  {
   "cell_type": "code",
   "execution_count": 9,
   "metadata": {},
   "outputs": [],
   "source": [
    "from sklearn.model_selection import train_test_split"
   ]
  },
  {
   "cell_type": "code",
   "execution_count": 10,
   "metadata": {},
   "outputs": [],
   "source": [
    "x_train,x_test,y_train,y_test=train_test_split(feat_data,labels,test_size=0.3,\n",
    "                                              random_state=101)"
   ]
  },
  {
   "cell_type": "code",
   "execution_count": 11,
   "metadata": {},
   "outputs": [],
   "source": [
    "from sklearn.preprocessing import MinMaxScaler"
   ]
  },
  {
   "cell_type": "code",
   "execution_count": 12,
   "metadata": {},
   "outputs": [],
   "source": [
    "scaler=MinMaxScaler()"
   ]
  },
  {
   "cell_type": "code",
   "execution_count": 13,
   "metadata": {},
   "outputs": [],
   "source": [
    "scaled_x_train=scaler.fit_transform(x_train)\n",
    "scaled_x_test=scaler.fit_transform(x_test)"
   ]
  },
  {
   "cell_type": "code",
   "execution_count": 14,
   "metadata": {},
   "outputs": [
    {
     "name": "stderr",
     "output_type": "stream",
     "text": [
      "C:\\Users\\codehax\\Anaconda3\\lib\\site-packages\\h5py\\__init__.py:36: FutureWarning: Conversion of the second argument of issubdtype from `float` to `np.floating` is deprecated. In future, it will be treated as `np.float64 == np.dtype(float).type`.\n",
      "  from ._conv import register_converters as _register_converters\n"
     ]
    }
   ],
   "source": [
    "import tensorflow as tf\n",
    "from tensorflow import estimator"
   ]
  },
  {
   "cell_type": "code",
   "execution_count": 15,
   "metadata": {},
   "outputs": [
    {
     "data": {
      "text/plain": [
       "(124, 13)"
      ]
     },
     "execution_count": 15,
     "metadata": {},
     "output_type": "execute_result"
    }
   ],
   "source": [
    "x_train.shape"
   ]
  },
  {
   "cell_type": "code",
   "execution_count": 16,
   "metadata": {},
   "outputs": [],
   "source": [
    "feat_cols=[tf.feature_column.numeric_column('x', shape=[13])]"
   ]
  },
  {
   "cell_type": "code",
   "execution_count": 19,
   "metadata": {},
   "outputs": [
    {
     "name": "stdout",
     "output_type": "stream",
     "text": [
      "INFO:tensorflow:Using default config.\n",
      "WARNING:tensorflow:Using temporary folder as model directory: C:\\Users\\codehax\\AppData\\Local\\Temp\\tmp9jm8muqr\n",
      "INFO:tensorflow:Using config: {'_model_dir': 'C:\\\\Users\\\\codehax\\\\AppData\\\\Local\\\\Temp\\\\tmp9jm8muqr', '_tf_random_seed': None, '_save_summary_steps': 100, '_save_checkpoints_steps': None, '_save_checkpoints_secs': 600, '_session_config': allow_soft_placement: true\n",
      "graph_options {\n",
      "  rewrite_options {\n",
      "    meta_optimizer_iterations: ONE\n",
      "  }\n",
      "}\n",
      ", '_keep_checkpoint_max': 5, '_keep_checkpoint_every_n_hours': 10000, '_log_step_count_steps': 100, '_train_distribute': None, '_device_fn': None, '_protocol': None, '_eval_distribute': None, '_experimental_distribute': None, '_service': None, '_cluster_spec': <tensorflow.python.training.server_lib.ClusterSpec object at 0x0000020157E45F60>, '_task_type': 'worker', '_task_id': 0, '_global_id_in_cluster': 0, '_master': '', '_evaluation_master': '', '_is_chief': True, '_num_ps_replicas': 0, '_num_worker_replicas': 1}\n"
     ]
    }
   ],
   "source": [
    "#classs= 3 cause 3 types of alcohol\n",
    "deep_model=estimator.DNNClassifier(hidden_units=[13,13,13],\n",
    "                                  feature_columns=feat_cols,\n",
    "                                  n_classes=3,\n",
    "                                  optimizer=tf.train.GradientDescentOptimizer(learning_rate=0.01))"
   ]
  },
  {
   "cell_type": "code",
   "execution_count": 20,
   "metadata": {},
   "outputs": [],
   "source": [
    "input_fn=estimator.inputs.numpy_input_fn(x={'x':scaled_x_train},\n",
    "                                        y=y_train,\n",
    "                                        shuffle=True,\n",
    "                                        batch_size=10,\n",
    "                                        num_epochs=5)"
   ]
  },
  {
   "cell_type": "code",
   "execution_count": 21,
   "metadata": {},
   "outputs": [
    {
     "name": "stdout",
     "output_type": "stream",
     "text": [
      "WARNING:tensorflow:From C:\\Users\\codehax\\Anaconda3\\lib\\site-packages\\tensorflow\\python\\estimator\\inputs\\queues\\feeding_queue_runner.py:62: QueueRunner.__init__ (from tensorflow.python.training.queue_runner_impl) is deprecated and will be removed in a future version.\n",
      "Instructions for updating:\n",
      "To construct input pipelines, use the `tf.data` module.\n",
      "WARNING:tensorflow:From C:\\Users\\codehax\\Anaconda3\\lib\\site-packages\\tensorflow\\python\\estimator\\inputs\\queues\\feeding_functions.py:500: add_queue_runner (from tensorflow.python.training.queue_runner_impl) is deprecated and will be removed in a future version.\n",
      "Instructions for updating:\n",
      "To construct input pipelines, use the `tf.data` module.\n",
      "INFO:tensorflow:Calling model_fn.\n",
      "INFO:tensorflow:Done calling model_fn.\n",
      "INFO:tensorflow:Create CheckpointSaverHook.\n",
      "INFO:tensorflow:Graph was finalized.\n",
      "INFO:tensorflow:Running local_init_op.\n",
      "INFO:tensorflow:Done running local_init_op.\n",
      "WARNING:tensorflow:From C:\\Users\\codehax\\Anaconda3\\lib\\site-packages\\tensorflow\\python\\training\\monitored_session.py:804: start_queue_runners (from tensorflow.python.training.queue_runner_impl) is deprecated and will be removed in a future version.\n",
      "Instructions for updating:\n",
      "To construct input pipelines, use the `tf.data` module.\n",
      "INFO:tensorflow:Saving checkpoints for 0 into C:\\Users\\codehax\\AppData\\Local\\Temp\\tmp9jm8muqr\\model.ckpt.\n",
      "INFO:tensorflow:loss = 11.074572, step = 1\n",
      "INFO:tensorflow:Saving checkpoints for 62 into C:\\Users\\codehax\\AppData\\Local\\Temp\\tmp9jm8muqr\\model.ckpt.\n",
      "INFO:tensorflow:Loss for final step: 7.1108847.\n"
     ]
    },
    {
     "data": {
      "text/plain": [
       "<tensorflow.python.estimator.canned.dnn.DNNClassifier at 0x20157e45b70>"
      ]
     },
     "execution_count": 21,
     "metadata": {},
     "output_type": "execute_result"
    }
   ],
   "source": [
    "deep_model.train(input_fn=input_fn,steps=500)"
   ]
  },
  {
   "cell_type": "code",
   "execution_count": 22,
   "metadata": {},
   "outputs": [],
   "source": [
    "input_fn_eval=estimator.inputs.numpy_input_fn(x={'x':scaled_x_test},\n",
    "                                             shuffle=False)"
   ]
  },
  {
   "cell_type": "code",
   "execution_count": 24,
   "metadata": {},
   "outputs": [
    {
     "name": "stdout",
     "output_type": "stream",
     "text": [
      "INFO:tensorflow:Calling model_fn.\n",
      "INFO:tensorflow:Done calling model_fn.\n",
      "INFO:tensorflow:Graph was finalized.\n",
      "INFO:tensorflow:Restoring parameters from C:\\Users\\codehax\\AppData\\Local\\Temp\\tmp9jm8muqr\\model.ckpt-62\n",
      "INFO:tensorflow:Running local_init_op.\n",
      "INFO:tensorflow:Done running local_init_op.\n"
     ]
    }
   ],
   "source": [
    "preds=list(deep_model.predict(input_fn=input_fn_eval))"
   ]
  },
  {
   "cell_type": "code",
   "execution_count": 27,
   "metadata": {},
   "outputs": [],
   "source": [
    "predictions=[p['class_ids'][0] for p in preds]"
   ]
  },
  {
   "cell_type": "code",
   "execution_count": 28,
   "metadata": {},
   "outputs": [],
   "source": [
    "from sklearn.metrics import confusion_matrix,classification_report"
   ]
  },
  {
   "cell_type": "code",
   "execution_count": 31,
   "metadata": {},
   "outputs": [
    {
     "name": "stdout",
     "output_type": "stream",
     "text": [
      "              precision    recall  f1-score   support\n",
      "\n",
      "           0       1.00      0.53      0.69        19\n",
      "           1       0.71      1.00      0.83        22\n",
      "           2       1.00      1.00      1.00        13\n",
      "\n",
      "   micro avg       0.83      0.83      0.83        54\n",
      "   macro avg       0.90      0.84      0.84        54\n",
      "weighted avg       0.88      0.83      0.82        54\n",
      "\n"
     ]
    }
   ],
   "source": [
    "print(classification_report(y_test,predictions))"
   ]
  },
  {
   "cell_type": "markdown",
   "metadata": {},
   "source": [
    "# Keras"
   ]
  },
  {
   "cell_type": "code",
   "execution_count": 32,
   "metadata": {},
   "outputs": [],
   "source": [
    "from tensorflow.contrib.keras import models"
   ]
  },
  {
   "cell_type": "code",
   "execution_count": 33,
   "metadata": {},
   "outputs": [],
   "source": [
    "dnn_keras_model=models.Sequential()"
   ]
  },
  {
   "cell_type": "code",
   "execution_count": 34,
   "metadata": {},
   "outputs": [],
   "source": [
    "from tensorflow.contrib.keras import layers\n",
    "dnn_keras_model.add(layers.Dense(units=13,input_dim=13,activation='relu'))"
   ]
  },
  {
   "cell_type": "code",
   "execution_count": 35,
   "metadata": {},
   "outputs": [],
   "source": [
    "dnn_keras_model.add(layers.Dense(units=13,activation='relu'))\n",
    "dnn_keras_model.add(layers.Dense(units=13,activation='relu'))\n",
    "dnn_keras_model.add(layers.Dense(units=3,activation='softmax'))"
   ]
  },
  {
   "cell_type": "code",
   "execution_count": 36,
   "metadata": {},
   "outputs": [],
   "source": [
    "from tensorflow.contrib.keras import losses,optimizers,metrics,activations"
   ]
  },
  {
   "cell_type": "code",
   "execution_count": 37,
   "metadata": {},
   "outputs": [],
   "source": [
    "dnn_keras_model.compile(optimizer='adam',\n",
    "                       loss='sparse_categorical_crossentropy',\n",
    "                       metrics=['accuracy'])"
   ]
  },
  {
   "cell_type": "code",
   "execution_count": 38,
   "metadata": {},
   "outputs": [
    {
     "name": "stdout",
     "output_type": "stream",
     "text": [
      "Epoch 1/50\n",
      "124/124 [==============================] - 1s 6ms/step - loss: 1.0923 - acc: 0.3952\n",
      "Epoch 2/50\n",
      "124/124 [==============================] - 0s 104us/step - loss: 1.0842 - acc: 0.3952\n",
      "Epoch 3/50\n",
      "124/124 [==============================] - 0s 88us/step - loss: 1.0767 - acc: 0.3952\n",
      "Epoch 4/50\n",
      "124/124 [==============================] - 0s 97us/step - loss: 1.0688 - acc: 0.3952\n",
      "Epoch 5/50\n",
      "124/124 [==============================] - 0s 97us/step - loss: 1.0615 - acc: 0.3952\n",
      "Epoch 6/50\n",
      "124/124 [==============================] - 0s 65us/step - loss: 1.0538 - acc: 0.3952\n",
      "Epoch 7/50\n",
      "124/124 [==============================] - 0s 65us/step - loss: 1.0459 - acc: 0.3952\n",
      "Epoch 8/50\n",
      "124/124 [==============================] - 0s 97us/step - loss: 1.0371 - acc: 0.3952\n",
      "Epoch 9/50\n",
      "124/124 [==============================] - 0s 97us/step - loss: 1.0279 - acc: 0.3952\n",
      "Epoch 10/50\n",
      "124/124 [==============================] - 0s 97us/step - loss: 1.0180 - acc: 0.3952\n",
      "Epoch 11/50\n",
      "124/124 [==============================] - 0s 97us/step - loss: 1.0069 - acc: 0.3952\n",
      "Epoch 12/50\n",
      "124/124 [==============================] - 0s 129us/step - loss: 0.9941 - acc: 0.3952\n",
      "Epoch 13/50\n",
      "124/124 [==============================] - 0s 97us/step - loss: 0.9801 - acc: 0.3952\n",
      "Epoch 14/50\n",
      "124/124 [==============================] - 0s 97us/step - loss: 0.9650 - acc: 0.4194\n",
      "Epoch 15/50\n",
      "124/124 [==============================] - 0s 97us/step - loss: 0.9488 - acc: 0.4516\n",
      "Epoch 16/50\n",
      "124/124 [==============================] - 0s 129us/step - loss: 0.9317 - acc: 0.4839\n",
      "Epoch 17/50\n",
      "124/124 [==============================] - 0s 97us/step - loss: 0.9128 - acc: 0.5403\n",
      "Epoch 18/50\n",
      "124/124 [==============================] - 0s 161us/step - loss: 0.8930 - acc: 0.5645\n",
      "Epoch 19/50\n",
      "124/124 [==============================] - 0s 193us/step - loss: 0.8727 - acc: 0.6129\n",
      "Epoch 20/50\n",
      "124/124 [==============================] - 0s 161us/step - loss: 0.8517 - acc: 0.6210\n",
      "Epoch 21/50\n",
      "124/124 [==============================] - 0s 97us/step - loss: 0.8298 - acc: 0.6532\n",
      "Epoch 22/50\n",
      "124/124 [==============================] - 0s 97us/step - loss: 0.8077 - acc: 0.7258\n",
      "Epoch 23/50\n",
      "124/124 [==============================] - 0s 97us/step - loss: 0.7857 - acc: 0.7661\n",
      "Epoch 24/50\n",
      "124/124 [==============================] - 0s 97us/step - loss: 0.7632 - acc: 0.8226\n",
      "Epoch 25/50\n",
      "124/124 [==============================] - 0s 97us/step - loss: 0.7395 - acc: 0.8306\n",
      "Epoch 26/50\n",
      "124/124 [==============================] - 0s 97us/step - loss: 0.7167 - acc: 0.8468\n",
      "Epoch 27/50\n",
      "124/124 [==============================] - 0s 97us/step - loss: 0.6940 - acc: 0.8790\n",
      "Epoch 28/50\n",
      "124/124 [==============================] - 0s 97us/step - loss: 0.6705 - acc: 0.8871\n",
      "Epoch 29/50\n",
      "124/124 [==============================] - 0s 97us/step - loss: 0.6471 - acc: 0.8952\n",
      "Epoch 30/50\n",
      "124/124 [==============================] - 0s 97us/step - loss: 0.6239 - acc: 0.9032\n",
      "Epoch 31/50\n",
      "124/124 [==============================] - 0s 65us/step - loss: 0.6005 - acc: 0.9274\n",
      "Epoch 32/50\n",
      "124/124 [==============================] - 0s 65us/step - loss: 0.5780 - acc: 0.9274\n",
      "Epoch 33/50\n",
      "124/124 [==============================] - 0s 65us/step - loss: 0.5557 - acc: 0.9274\n",
      "Epoch 34/50\n",
      "124/124 [==============================] - 0s 129us/step - loss: 0.5332 - acc: 0.9274\n",
      "Epoch 35/50\n",
      "124/124 [==============================] - 0s 129us/step - loss: 0.5116 - acc: 0.9274\n",
      "Epoch 36/50\n",
      "124/124 [==============================] - 0s 87us/step - loss: 0.4912 - acc: 0.9274\n",
      "Epoch 37/50\n",
      "124/124 [==============================] - 0s 97us/step - loss: 0.4701 - acc: 0.9274\n",
      "Epoch 38/50\n",
      "124/124 [==============================] - 0s 129us/step - loss: 0.4504 - acc: 0.9435\n",
      "Epoch 39/50\n",
      "124/124 [==============================] - 0s 129us/step - loss: 0.4311 - acc: 0.9435\n",
      "Epoch 40/50\n",
      "124/124 [==============================] - 0s 97us/step - loss: 0.4129 - acc: 0.9435\n",
      "Epoch 41/50\n",
      "124/124 [==============================] - 0s 97us/step - loss: 0.3966 - acc: 0.9435\n",
      "Epoch 42/50\n",
      "124/124 [==============================] - 0s 97us/step - loss: 0.3790 - acc: 0.9435\n",
      "Epoch 43/50\n",
      "124/124 [==============================] - 0s 97us/step - loss: 0.3627 - acc: 0.9516\n",
      "Epoch 44/50\n",
      "124/124 [==============================] - 0s 97us/step - loss: 0.3484 - acc: 0.9597\n",
      "Epoch 45/50\n",
      "124/124 [==============================] - 0s 97us/step - loss: 0.3340 - acc: 0.9597\n",
      "Epoch 46/50\n",
      "124/124 [==============================] - 0s 129us/step - loss: 0.3220 - acc: 0.9597\n",
      "Epoch 47/50\n",
      "124/124 [==============================] - 0s 97us/step - loss: 0.3081 - acc: 0.9597\n",
      "Epoch 48/50\n",
      "124/124 [==============================] - 0s 97us/step - loss: 0.2959 - acc: 0.9597\n",
      "Epoch 49/50\n",
      "124/124 [==============================] - 0s 97us/step - loss: 0.2847 - acc: 0.9597\n",
      "Epoch 50/50\n",
      "124/124 [==============================] - 0s 97us/step - loss: 0.2744 - acc: 0.9597\n"
     ]
    },
    {
     "data": {
      "text/plain": [
       "<tensorflow.python.keras.callbacks.History at 0x20161ca9eb8>"
      ]
     },
     "execution_count": 38,
     "metadata": {},
     "output_type": "execute_result"
    }
   ],
   "source": [
    "dnn_keras_model.fit(scaled_x_train,y_train,epochs=50)"
   ]
  },
  {
   "cell_type": "code",
   "execution_count": 42,
   "metadata": {},
   "outputs": [],
   "source": [
    "predictions=dnn_keras_model.predict_classes(scaled_x_test)"
   ]
  },
  {
   "cell_type": "code",
   "execution_count": 43,
   "metadata": {},
   "outputs": [
    {
     "name": "stdout",
     "output_type": "stream",
     "text": [
      "              precision    recall  f1-score   support\n",
      "\n",
      "           0       0.89      0.94      0.92        18\n",
      "           1       0.91      0.91      0.91        22\n",
      "           2       1.00      0.93      0.96        14\n",
      "\n",
      "   micro avg       0.93      0.93      0.93        54\n",
      "   macro avg       0.93      0.93      0.93        54\n",
      "weighted avg       0.93      0.93      0.93        54\n",
      "\n"
     ]
    }
   ],
   "source": [
    "from sklearn.metrics import classification_report\n",
    "print(classification_report(predictions,y_test))"
   ]
  },
  {
   "cell_type": "markdown",
   "metadata": {},
   "source": [
    "# Layers API"
   ]
  },
  {
   "cell_type": "code",
   "execution_count": 44,
   "metadata": {},
   "outputs": [],
   "source": [
    "import pandas as pd"
   ]
  },
  {
   "cell_type": "code",
   "execution_count": 51,
   "metadata": {},
   "outputs": [
    {
     "name": "stderr",
     "output_type": "stream",
     "text": [
      "C:\\Users\\codehax\\Anaconda3\\lib\\site-packages\\ipykernel_launcher.py:1: FutureWarning: Method .as_matrix will be removed in a future version. Use .values instead.\n",
      "  \"\"\"Entry point for launching an IPython kernel.\n"
     ]
    }
   ],
   "source": [
    "onehot_y_train=pd.get_dummies(y_train).as_matrix()"
   ]
  },
  {
   "cell_type": "code",
   "execution_count": 46,
   "metadata": {},
   "outputs": [
    {
     "name": "stderr",
     "output_type": "stream",
     "text": [
      "C:\\Users\\codehax\\Anaconda3\\lib\\site-packages\\ipykernel_launcher.py:1: FutureWarning: Method .as_matrix will be removed in a future version. Use .values instead.\n",
      "  \"\"\"Entry point for launching an IPython kernel.\n"
     ]
    }
   ],
   "source": [
    "onehot_y_train=pd.get_dummies(y_test).as_matrix()"
   ]
  },
  {
   "cell_type": "code",
   "execution_count": 52,
   "metadata": {},
   "outputs": [],
   "source": [
    "num_feat=13\n",
    "num_hidden1=13\n",
    "num_hidden2=13\n",
    "num_outputs=3\n",
    "learning_rate=0.01"
   ]
  },
  {
   "cell_type": "code",
   "execution_count": 54,
   "metadata": {},
   "outputs": [],
   "source": [
    "from tensorflow.contrib.layers import fully_connected"
   ]
  },
  {
   "cell_type": "code",
   "execution_count": 55,
   "metadata": {},
   "outputs": [],
   "source": [
    "x=tf.placeholder(tf.float32,shape=[None,num_feat])"
   ]
  },
  {
   "cell_type": "code",
   "execution_count": 56,
   "metadata": {},
   "outputs": [],
   "source": [
    "y_true=tf.placeholder(tf.float32,shape=[None,3])"
   ]
  },
  {
   "cell_type": "code",
   "execution_count": 57,
   "metadata": {},
   "outputs": [],
   "source": [
    "actf=tf.nn.relu"
   ]
  },
  {
   "cell_type": "code",
   "execution_count": 58,
   "metadata": {},
   "outputs": [],
   "source": [
    "hidden1=fully_connected(x,num_hidden1,activation_fn=actf)\n",
    "hidden2=fully_connected(hidden1,num_hidden2,activation_fn=actf)\n",
    "output=fully_connected(hidden2,num_outputs)"
   ]
  },
  {
   "cell_type": "code",
   "execution_count": 60,
   "metadata": {},
   "outputs": [],
   "source": [
    "loss=tf.losses.softmax_cross_entropy(onehot_labels=y_true,logits=output)"
   ]
  },
  {
   "cell_type": "code",
   "execution_count": 71,
   "metadata": {},
   "outputs": [],
   "source": [
    "optimizer=tf.train.AdamOptimizer(learning_rate)\n",
    "train=optimizer.minimize(loss)\n",
    "init=tf.global_variables_initializer()\n",
    "training_steps=1000"
   ]
  },
  {
   "cell_type": "code",
   "execution_count": 72,
   "metadata": {},
   "outputs": [],
   "source": [
    "with tf.Session() as sess:\n",
    "    sess.run(init)\n",
    "    for i in range(training_steps):\n",
    "        sess.run(train,feed_dict={x:scaled_x_train,y_true:onehot_y_train})\n",
    "    logits=output.eval(feed_dict={x:scaled_x_test})\n",
    "    preds=tf.argmax(logits,axis=1)\n",
    "    results=preds.eval()"
   ]
  },
  {
   "cell_type": "code",
   "execution_count": 73,
   "metadata": {},
   "outputs": [
    {
     "name": "stdout",
     "output_type": "stream",
     "text": [
      "              precision    recall  f1-score   support\n",
      "\n",
      "           0       1.00      0.63      0.78        30\n",
      "           1       1.00      0.92      0.96        24\n",
      "           2       0.00      0.00      0.00         0\n",
      "\n",
      "   micro avg       0.76      0.76      0.76        54\n",
      "   macro avg       0.67      0.52      0.58        54\n",
      "weighted avg       1.00      0.76      0.86        54\n",
      "\n"
     ]
    },
    {
     "name": "stderr",
     "output_type": "stream",
     "text": [
      "C:\\Users\\codehax\\Anaconda3\\lib\\site-packages\\sklearn\\metrics\\classification.py:1145: UndefinedMetricWarning: Recall and F-score are ill-defined and being set to 0.0 in labels with no true samples.\n",
      "  'recall', 'true', average, warn_for)\n"
     ]
    }
   ],
   "source": [
    "print(classification_report(results,y_test))"
   ]
  },
  {
   "cell_type": "code",
   "execution_count": null,
   "metadata": {},
   "outputs": [],
   "source": []
  }
 ],
 "metadata": {
  "kernelspec": {
   "display_name": "Python 3",
   "language": "python",
   "name": "python3"
  },
  "language_info": {
   "codemirror_mode": {
    "name": "ipython",
    "version": 3
   },
   "file_extension": ".py",
   "mimetype": "text/x-python",
   "name": "python",
   "nbconvert_exporter": "python",
   "pygments_lexer": "ipython3",
   "version": "3.6.5"
  }
 },
 "nbformat": 4,
 "nbformat_minor": 2
}
