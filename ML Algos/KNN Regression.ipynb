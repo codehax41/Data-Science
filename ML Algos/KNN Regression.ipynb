{
 "cells": [
  {
   "cell_type": "code",
   "execution_count": 1,
   "metadata": {},
   "outputs": [],
   "source": [
    "from sklearn.datasets import *"
   ]
  },
  {
   "cell_type": "code",
   "execution_count": 30,
   "metadata": {},
   "outputs": [],
   "source": [
    "boston=load_boston()"
   ]
  },
  {
   "cell_type": "code",
   "execution_count": 28,
   "metadata": {},
   "outputs": [
    {
     "data": {
      "text/plain": [
       "array([[6.3200e-03, 1.8000e+01, 2.3100e+00, ..., 1.5300e+01, 3.9690e+02,\n",
       "        4.9800e+00],\n",
       "       [2.7310e-02, 0.0000e+00, 7.0700e+00, ..., 1.7800e+01, 3.9690e+02,\n",
       "        9.1400e+00],\n",
       "       [2.7290e-02, 0.0000e+00, 7.0700e+00, ..., 1.7800e+01, 3.9283e+02,\n",
       "        4.0300e+00],\n",
       "       ...,\n",
       "       [6.0760e-02, 0.0000e+00, 1.1930e+01, ..., 2.1000e+01, 3.9690e+02,\n",
       "        5.6400e+00],\n",
       "       [1.0959e-01, 0.0000e+00, 1.1930e+01, ..., 2.1000e+01, 3.9345e+02,\n",
       "        6.4800e+00],\n",
       "       [4.7410e-02, 0.0000e+00, 1.1930e+01, ..., 2.1000e+01, 3.9690e+02,\n",
       "        7.8800e+00]])"
      ]
     },
     "execution_count": 28,
     "metadata": {},
     "output_type": "execute_result"
    }
   ],
   "source": [
    "import pandas as pd\n",
    "x=boston['data']\n",
    "x"
   ]
  },
  {
   "cell_type": "code",
   "execution_count": 4,
   "metadata": {},
   "outputs": [],
   "source": [
    "y=boston['target']"
   ]
  },
  {
   "cell_type": "code",
   "execution_count": 5,
   "metadata": {},
   "outputs": [
    {
     "name": "stderr",
     "output_type": "stream",
     "text": [
      "C:\\Users\\Naveen\\Anaconda3\\lib\\site-packages\\sklearn\\cross_validation.py:41: DeprecationWarning: This module was deprecated in version 0.18 in favor of the model_selection module into which all the refactored classes and functions are moved. Also note that the interface of the new CV iterators are different from that of this module. This module will be removed in 0.20.\n",
      "  \"This module will be removed in 0.20.\", DeprecationWarning)\n"
     ]
    }
   ],
   "source": [
    "from sklearn.cross_validation import train_test_split"
   ]
  },
  {
   "cell_type": "code",
   "execution_count": 6,
   "metadata": {},
   "outputs": [],
   "source": [
    "x_train,x_test,y_train,y_test=train_test_split(x,y,test_size=0.2,random_state=0)"
   ]
  },
  {
   "cell_type": "code",
   "execution_count": 7,
   "metadata": {},
   "outputs": [],
   "source": [
    "bos=pd.DataFrame(boston['data'])\n",
    "bos.columns=boston['feature_names']\n",
    "bos['Price']=boston['target']"
   ]
  },
  {
   "cell_type": "code",
   "execution_count": 32,
   "metadata": {},
   "outputs": [
    {
     "data": {
      "text/html": [
       "<div>\n",
       "<style scoped>\n",
       "    .dataframe tbody tr th:only-of-type {\n",
       "        vertical-align: middle;\n",
       "    }\n",
       "\n",
       "    .dataframe tbody tr th {\n",
       "        vertical-align: top;\n",
       "    }\n",
       "\n",
       "    .dataframe thead th {\n",
       "        text-align: right;\n",
       "    }\n",
       "</style>\n",
       "<table border=\"1\" class=\"dataframe\">\n",
       "  <thead>\n",
       "    <tr style=\"text-align: right;\">\n",
       "      <th></th>\n",
       "      <th>CRIM</th>\n",
       "      <th>ZN</th>\n",
       "      <th>INDUS</th>\n",
       "      <th>CHAS</th>\n",
       "      <th>NOX</th>\n",
       "      <th>RM</th>\n",
       "      <th>AGE</th>\n",
       "      <th>DIS</th>\n",
       "      <th>RAD</th>\n",
       "      <th>TAX</th>\n",
       "      <th>PTRATIO</th>\n",
       "      <th>B</th>\n",
       "      <th>LSTAT</th>\n",
       "      <th>Price</th>\n",
       "    </tr>\n",
       "  </thead>\n",
       "  <tbody>\n",
       "    <tr>\n",
       "      <th>0</th>\n",
       "      <td>0.00632</td>\n",
       "      <td>18.0</td>\n",
       "      <td>2.31</td>\n",
       "      <td>0.0</td>\n",
       "      <td>0.538</td>\n",
       "      <td>6.575</td>\n",
       "      <td>65.2</td>\n",
       "      <td>4.0900</td>\n",
       "      <td>1.0</td>\n",
       "      <td>296.0</td>\n",
       "      <td>15.3</td>\n",
       "      <td>396.90</td>\n",
       "      <td>4.98</td>\n",
       "      <td>24.0</td>\n",
       "    </tr>\n",
       "    <tr>\n",
       "      <th>1</th>\n",
       "      <td>0.02731</td>\n",
       "      <td>0.0</td>\n",
       "      <td>7.07</td>\n",
       "      <td>0.0</td>\n",
       "      <td>0.469</td>\n",
       "      <td>6.421</td>\n",
       "      <td>78.9</td>\n",
       "      <td>4.9671</td>\n",
       "      <td>2.0</td>\n",
       "      <td>242.0</td>\n",
       "      <td>17.8</td>\n",
       "      <td>396.90</td>\n",
       "      <td>9.14</td>\n",
       "      <td>21.6</td>\n",
       "    </tr>\n",
       "    <tr>\n",
       "      <th>2</th>\n",
       "      <td>0.02729</td>\n",
       "      <td>0.0</td>\n",
       "      <td>7.07</td>\n",
       "      <td>0.0</td>\n",
       "      <td>0.469</td>\n",
       "      <td>7.185</td>\n",
       "      <td>61.1</td>\n",
       "      <td>4.9671</td>\n",
       "      <td>2.0</td>\n",
       "      <td>242.0</td>\n",
       "      <td>17.8</td>\n",
       "      <td>392.83</td>\n",
       "      <td>4.03</td>\n",
       "      <td>34.7</td>\n",
       "    </tr>\n",
       "    <tr>\n",
       "      <th>3</th>\n",
       "      <td>0.03237</td>\n",
       "      <td>0.0</td>\n",
       "      <td>2.18</td>\n",
       "      <td>0.0</td>\n",
       "      <td>0.458</td>\n",
       "      <td>6.998</td>\n",
       "      <td>45.8</td>\n",
       "      <td>6.0622</td>\n",
       "      <td>3.0</td>\n",
       "      <td>222.0</td>\n",
       "      <td>18.7</td>\n",
       "      <td>394.63</td>\n",
       "      <td>2.94</td>\n",
       "      <td>33.4</td>\n",
       "    </tr>\n",
       "    <tr>\n",
       "      <th>4</th>\n",
       "      <td>0.06905</td>\n",
       "      <td>0.0</td>\n",
       "      <td>2.18</td>\n",
       "      <td>0.0</td>\n",
       "      <td>0.458</td>\n",
       "      <td>7.147</td>\n",
       "      <td>54.2</td>\n",
       "      <td>6.0622</td>\n",
       "      <td>3.0</td>\n",
       "      <td>222.0</td>\n",
       "      <td>18.7</td>\n",
       "      <td>396.90</td>\n",
       "      <td>5.33</td>\n",
       "      <td>36.2</td>\n",
       "    </tr>\n",
       "  </tbody>\n",
       "</table>\n",
       "</div>"
      ],
      "text/plain": [
       "      CRIM    ZN  INDUS  CHAS    NOX     RM   AGE     DIS  RAD    TAX  \\\n",
       "0  0.00632  18.0   2.31   0.0  0.538  6.575  65.2  4.0900  1.0  296.0   \n",
       "1  0.02731   0.0   7.07   0.0  0.469  6.421  78.9  4.9671  2.0  242.0   \n",
       "2  0.02729   0.0   7.07   0.0  0.469  7.185  61.1  4.9671  2.0  242.0   \n",
       "3  0.03237   0.0   2.18   0.0  0.458  6.998  45.8  6.0622  3.0  222.0   \n",
       "4  0.06905   0.0   2.18   0.0  0.458  7.147  54.2  6.0622  3.0  222.0   \n",
       "\n",
       "   PTRATIO       B  LSTAT  Price  \n",
       "0     15.3  396.90   4.98   24.0  \n",
       "1     17.8  396.90   9.14   21.6  \n",
       "2     17.8  392.83   4.03   34.7  \n",
       "3     18.7  394.63   2.94   33.4  \n",
       "4     18.7  396.90   5.33   36.2  "
      ]
     },
     "execution_count": 32,
     "metadata": {},
     "output_type": "execute_result"
    }
   ],
   "source": [
    "bos.head()"
   ]
  },
  {
   "cell_type": "code",
   "execution_count": 9,
   "metadata": {},
   "outputs": [],
   "source": [
    "from sklearn.neighbors import KNeighborsRegressor"
   ]
  },
  {
   "cell_type": "code",
   "execution_count": 10,
   "metadata": {},
   "outputs": [],
   "source": [
    "train_x=boston['data'][:500]"
   ]
  },
  {
   "cell_type": "code",
   "execution_count": 11,
   "metadata": {},
   "outputs": [],
   "source": [
    "train_y=boston['target'][:500]"
   ]
  },
  {
   "cell_type": "code",
   "execution_count": 12,
   "metadata": {},
   "outputs": [],
   "source": [
    "KNR=KNeighborsRegressor(8)"
   ]
  },
  {
   "cell_type": "code",
   "execution_count": 13,
   "metadata": {},
   "outputs": [
    {
     "data": {
      "text/plain": [
       "KNeighborsRegressor(algorithm='auto', leaf_size=30, metric='minkowski',\n",
       "          metric_params=None, n_jobs=1, n_neighbors=8, p=2,\n",
       "          weights='uniform')"
      ]
     },
     "execution_count": 13,
     "metadata": {},
     "output_type": "execute_result"
    }
   ],
   "source": [
    "KNR.fit(train_x,train_y)"
   ]
  },
  {
   "cell_type": "code",
   "execution_count": 14,
   "metadata": {},
   "outputs": [
    {
     "data": {
      "text/plain": [
       "(102, 13)"
      ]
     },
     "execution_count": 14,
     "metadata": {},
     "output_type": "execute_result"
    }
   ],
   "source": [
    "x_test.shape"
   ]
  },
  {
   "cell_type": "code",
   "execution_count": 15,
   "metadata": {},
   "outputs": [
    {
     "data": {
      "text/plain": [
       "(102,)"
      ]
     },
     "execution_count": 15,
     "metadata": {},
     "output_type": "execute_result"
    }
   ],
   "source": [
    "y_test.shape"
   ]
  },
  {
   "cell_type": "code",
   "execution_count": 16,
   "metadata": {},
   "outputs": [],
   "source": [
    "import numpy as np"
   ]
  },
  {
   "cell_type": "code",
   "execution_count": 17,
   "metadata": {},
   "outputs": [
    {
     "name": "stdout",
     "output_type": "stream",
     "text": [
      "predicted value for k=1: [22.6 50.  23.   8.3 21.2 19.9 20.6 18.7 16.1 18.6  8.8 17.2 14.9 10.5\n",
      " 50.  29.  23.  33.3 29.4 21.  23.8 19.1 20.4 29.1 19.3 23.1 19.6 19.4\n",
      " 38.7 18.7 14.6 20.  20.5 20.1 23.6 16.8  5.6 50.  14.5 13.3 23.9 20.\n",
      " 19.8 13.8 16.5 21.6 20.3 17.  11.8 27.5 15.6 23.1 24.3 42.8 15.6 21.7\n",
      " 17.1 17.2 15.  21.7 18.6 21.  33.1 31.5 20.1 29.8 15.2 15.  27.5 22.6\n",
      " 20.  21.4 23.5 31.2 23.7  7.4 48.3 24.4 22.6 18.3 23.3 17.1 27.9 44.8\n",
      " 50.  23.  21.4 10.2 23.3 23.2 18.9 13.4 21.9 24.8 28.7 24.3 13.8 24.7\n",
      " 14.1 18.7 28.1 19.8]\n",
      "predicted value for k=3: [20.56666667 50.         24.46666667 10.63333333 21.13333333 20.43333333\n",
      " 20.63333333 21.96666667 22.26666667 15.76666667 11.56666667 11.33333333\n",
      " 15.26666667  9.73333333 40.9        24.03333333 22.7        29.1\n",
      " 25.8        23.66666667 22.43333333 21.         19.96666667 31.53333333\n",
      " 20.16666667 15.63333333 18.2        20.6        27.36666667 17.26666667\n",
      " 16.73333333 19.8        18.86666667 22.03333333 22.76666667 21.4\n",
      "  9.73333333 32.46666667 13.2        14.5        25.7        20.16666667\n",
      " 20.56666667 16.3        19.         24.3        23.5        22.1\n",
      " 13.6        24.43333333 15.76666667 22.63333333 32.2        31.13333333\n",
      " 20.         22.66666667 21.36666667 19.73333333 11.56666667 20.83333333\n",
      " 28.5        20.43333333 28.56666667 33.3        21.5        32.23333333\n",
      " 16.3        20.33333333 22.3        23.43333333 30.13333333 21.13333333\n",
      " 28.4        26.16666667 23.96666667  9.23333333 40.56666667 23.36666667\n",
      " 24.23333333 19.         22.5        18.13333333 21.23333333 45.5\n",
      " 44.13333333 25.43333333 20.96666667 13.63333333 38.2        21.43333333\n",
      " 20.53333333 13.13333333 22.5        24.26666667 30.33333333 24.16666667\n",
      " 11.6        26.63333333 11.43333333 21.6        25.93333333 19.8       ]\n",
      "predicted value for k=5: [21.22 36.6  22.84 10.5  21.38 21.3  21.34 24.32 29.   15.34 11.96 12.74\n",
      " 16.98  8.94 44.54 29.12 22.28 26.78 25.82 27.4  23.32 18.74 21.34 31.96\n",
      " 20.44 14.58 17.64 20.24 24.92 17.54 15.88 20.24 20.   21.4  24.4  25.6\n",
      "  9.54 27.22 14.   16.06 24.54 20.44 19.92 15.54 19.8  22.9  22.94 20.24\n",
      " 15.62 22.76 15.34 22.02 34.   31.22 20.24 24.34 21.86 18.84 10.34 21.1\n",
      " 30.46 21.3  30.58 29.44 21.26 33.14 15.54 19.28 17.62 23.76 25.82 21.64\n",
      " 25.3  26.58 22.72  9.74 38.16 23.78 25.58 20.64 21.92 18.4  18.56 37.82\n",
      " 36.46 26.14 23.62 12.56 32.08 21.66 25.7  12.16 27.08 25.42 27.2  22.16\n",
      " 10.54 27.08 12.2  21.78 28.84 19.66]\n"
     ]
    }
   ],
   "source": [
    "for k in [1,3,5]:\n",
    "    KNR=KNeighborsRegressor(k)\n",
    "    KNR.fit(train_x,train_y)\n",
    "    pred_test = KNR.predict(x_test)\n",
    "    print(\"predicted value for k={}: {}\".format(k,pred_test)) "
   ]
  },
  {
   "cell_type": "code",
   "execution_count": 18,
   "metadata": {},
   "outputs": [],
   "source": [
    "from sklearn.metrics import mean_squared_error \n",
    "from math import sqrt"
   ]
  },
  {
   "cell_type": "code",
   "execution_count": 19,
   "metadata": {},
   "outputs": [
    {
     "name": "stdout",
     "output_type": "stream",
     "text": [
      "RMSE value for k=  1 is: 7.708684941636399\n",
      "RMSE value for k=  2 is: 6.8640706352917515\n",
      "RMSE value for k=  3 is: 6.952072150772206\n",
      "RMSE value for k=  4 is: 6.90813139798055\n",
      "RMSE value for k=  5 is: 7.193321521369938\n",
      "RMSE value for k=  6 is: 7.223677329533764\n",
      "RMSE value for k=  7 is: 7.361064876119771\n",
      "RMSE value for k=  8 is: 7.373296787374415\n",
      "RMSE value for k=  9 is: 7.29375866867173\n",
      "RMSE value for k=  10 is: 7.472186072755574\n",
      "RMSE value for k=  11 is: 7.376979998651368\n",
      "RMSE value for k=  12 is: 7.44963321208188\n",
      "RMSE value for k=  13 is: 7.537696770700649\n",
      "RMSE value for k=  14 is: 7.617408973383739\n",
      "RMSE value for k=  15 is: 7.655805321442396\n",
      "RMSE value for k=  16 is: 7.760009595850772\n",
      "RMSE value for k=  17 is: 7.850076738274447\n",
      "RMSE value for k=  18 is: 7.928607094409227\n",
      "RMSE value for k=  19 is: 7.962434478635982\n",
      "RMSE value for k=  20 is: 7.981767827183324\n"
     ]
    }
   ],
   "source": [
    "rmse_val = []\n",
    "\n",
    "for K in range(20):\n",
    "    K = K+1\n",
    "    KNR = KNeighborsRegressor(n_neighbors = K)\n",
    "    KNR.fit(x_train,y_train)\n",
    "    pred_test = KNR.predict(x_test)\n",
    "    error = sqrt(mean_squared_error(y_test,pred_test)) #calculate rmse\n",
    "    rmse_val.append(error) #store rmse values\n",
    "    print('RMSE value for k= ' , K , 'is:', error)"
   ]
  },
  {
   "cell_type": "code",
   "execution_count": 20,
   "metadata": {},
   "outputs": [],
   "source": [
    "import matplotlib.pyplot as plt"
   ]
  },
  {
   "cell_type": "code",
   "execution_count": 21,
   "metadata": {},
   "outputs": [
    {
     "data": {
      "image/png": "[encoded data removed]",
      "text/plain": [
       "<Figure size 432x288 with 1 Axes>"
      ]
     },
     "metadata": {},
     "output_type": "display_data"
    }
   ],
   "source": [
    "curve=pd.DataFrame(rmse_val)\n",
    "curve.plot()\n",
    "plt.show()"
   ]
  },
  {
   "cell_type": "code",
   "execution_count": 22,
   "metadata": {},
   "outputs": [
    {
     "data": {
      "text/plain": [
       "KNeighborsRegressor(algorithm='auto', leaf_size=30, metric='minkowski',\n",
       "          metric_params=None, n_jobs=1, n_neighbors=8, p=2,\n",
       "          weights='uniform')"
      ]
     },
     "execution_count": 22,
     "metadata": {},
     "output_type": "execute_result"
    }
   ],
   "source": [
    "from sklearn.neighbors import KNeighborsRegressor\n",
    "KNR=KNeighborsRegressor(8)\n",
    "KNR.fit(train_x,train_y)"
   ]
  },
  {
   "cell_type": "code",
   "execution_count": 23,
   "metadata": {},
   "outputs": [
    {
     "data": {
      "text/plain": [
       "array([[20.6   ],\n",
       "       [29.7375],\n",
       "       [24.5625],\n",
       "       [10.5125],\n",
       "       [21.6125],\n",
       "       [20.9625],\n",
       "       [22.3125],\n",
       "       [24.175 ],\n",
       "       [27.5625],\n",
       "       [17.3375],\n",
       "       [10.8   ],\n",
       "       [13.0375],\n",
       "       [16.2875],\n",
       "       [ 9.15  ],\n",
       "       [34.95  ],\n",
       "       [26.3   ],\n",
       "       [22.275 ],\n",
       "       [25.3   ],\n",
       "       [24.525 ],\n",
       "       [25.8125],\n",
       "       [23.65  ],\n",
       "       [23.1625],\n",
       "       [20.6875],\n",
       "       [29.15  ],\n",
       "       [20.5125],\n",
       "       [15.9375],\n",
       "       [19.5625],\n",
       "       [20.5375],\n",
       "       [26.1375],\n",
       "       [17.375 ],\n",
       "       [15.4375],\n",
       "       [20.1375],\n",
       "       [21.6875],\n",
       "       [23.3125],\n",
       "       [23.6   ],\n",
       "       [22.1375],\n",
       "       [ 9.5375],\n",
       "       [22.1375],\n",
       "       [12.45  ],\n",
       "       [16.5   ],\n",
       "       [24.95  ],\n",
       "       [20.5125],\n",
       "       [20.    ],\n",
       "       [21.1375],\n",
       "       [19.9375],\n",
       "       [22.5125],\n",
       "       [23.1   ],\n",
       "       [20.1875],\n",
       "       [20.8875],\n",
       "       [21.125 ],\n",
       "       [17.3375],\n",
       "       [22.2125],\n",
       "       [30.6   ],\n",
       "       [28.6625],\n",
       "       [20.5375],\n",
       "       [23.375 ],\n",
       "       [22.3875],\n",
       "       [19.6625],\n",
       "       [10.425 ],\n",
       "       [22.5375],\n",
       "       [30.4125],\n",
       "       [20.8875],\n",
       "       [29.2375],\n",
       "       [27.85  ],\n",
       "       [21.875 ],\n",
       "       [30.4125],\n",
       "       [23.95  ],\n",
       "       [18.6125],\n",
       "       [16.2   ],\n",
       "       [27.4125],\n",
       "       [27.3625],\n",
       "       [21.85  ],\n",
       "       [25.1625],\n",
       "       [28.5125],\n",
       "       [22.35  ],\n",
       "       [ 9.55  ],\n",
       "       [34.7375],\n",
       "       [22.925 ],\n",
       "       [26.    ],\n",
       "       [21.775 ],\n",
       "       [23.1   ],\n",
       "       [17.5375],\n",
       "       [22.0875],\n",
       "       [36.2375],\n",
       "       [32.5   ],\n",
       "       [25.225 ],\n",
       "       [26.    ],\n",
       "       [11.7375],\n",
       "       [30.6125],\n",
       "       [19.9625],\n",
       "       [28.35  ],\n",
       "       [14.3125],\n",
       "       [24.5625],\n",
       "       [26.8   ],\n",
       "       [24.8875],\n",
       "       [24.375 ],\n",
       "       [10.1375],\n",
       "       [24.5625],\n",
       "       [12.25  ],\n",
       "       [21.675 ],\n",
       "       [27.1   ],\n",
       "       [20.6875]])"
      ]
     },
     "execution_count": 23,
     "metadata": {},
     "output_type": "execute_result"
    }
   ],
   "source": [
    "KNN=KNR.predict(x_test).reshape(-1,1)\n",
    "KNN"
   ]
  },
  {
   "cell_type": "code",
   "execution_count": 24,
   "metadata": {},
   "outputs": [
    {
     "name": "stdout",
     "output_type": "stream",
     "text": [
      "predicted value for k=1: [22.6 50.  23.   8.3 21.2 19.9 20.6 18.7 16.1 18.6  8.8 17.2 14.9 10.5\n",
      " 50.  29.  23.  33.3 29.4 21.  23.8 19.1 20.4 29.1 19.3 23.1 19.6 19.4\n",
      " 38.7 18.7 14.6 20.  20.5 20.1 23.6 16.8  5.6 50.  14.5 13.3 23.9 20.\n",
      " 19.8 13.8 16.5 21.6 20.3 17.  11.8 27.5 15.6 23.1 24.3 42.8 15.6 21.7\n",
      " 17.1 17.2 15.  21.7 18.6 21.  33.1 31.5 20.1 29.8 15.2 15.  27.5 22.6\n",
      " 20.  21.4 23.5 31.2 23.7  7.4 48.3 24.4 22.6 18.3 23.3 17.1 27.9 44.8\n",
      " 50.  23.  21.4 10.2 23.3 23.2 18.9 13.4 21.9 24.8 28.7 24.3 13.8 24.7\n",
      " 14.1 18.7 28.1 19.8]\n",
      "predicted value for k=3: [20.56666667 50.         24.46666667 10.63333333 21.13333333 20.43333333\n",
      " 20.63333333 21.96666667 22.26666667 15.76666667 11.56666667 11.33333333\n",
      " 15.26666667  9.73333333 40.9        24.03333333 22.7        29.1\n",
      " 25.8        23.66666667 22.43333333 21.         19.96666667 31.53333333\n",
      " 20.16666667 15.63333333 18.2        20.6        27.36666667 17.26666667\n",
      " 16.73333333 19.8        18.86666667 22.03333333 22.76666667 21.4\n",
      "  9.73333333 32.46666667 13.2        14.5        25.7        20.16666667\n",
      " 20.56666667 16.3        19.         24.3        23.5        22.1\n",
      " 13.6        24.43333333 15.76666667 22.63333333 32.2        31.13333333\n",
      " 20.         22.66666667 21.36666667 19.73333333 11.56666667 20.83333333\n",
      " 28.5        20.43333333 28.56666667 33.3        21.5        32.23333333\n",
      " 16.3        20.33333333 22.3        23.43333333 30.13333333 21.13333333\n",
      " 28.4        26.16666667 23.96666667  9.23333333 40.56666667 23.36666667\n",
      " 24.23333333 19.         22.5        18.13333333 21.23333333 45.5\n",
      " 44.13333333 25.43333333 20.96666667 13.63333333 38.2        21.43333333\n",
      " 20.53333333 13.13333333 22.5        24.26666667 30.33333333 24.16666667\n",
      " 11.6        26.63333333 11.43333333 21.6        25.93333333 19.8       ]\n",
      "predicted value for k=5: [21.22 36.6  22.84 10.5  21.38 21.3  21.34 24.32 29.   15.34 11.96 12.74\n",
      " 16.98  8.94 44.54 29.12 22.28 26.78 25.82 27.4  23.32 18.74 21.34 31.96\n",
      " 20.44 14.58 17.64 20.24 24.92 17.54 15.88 20.24 20.   21.4  24.4  25.6\n",
      "  9.54 27.22 14.   16.06 24.54 20.44 19.92 15.54 19.8  22.9  22.94 20.24\n",
      " 15.62 22.76 15.34 22.02 34.   31.22 20.24 24.34 21.86 18.84 10.34 21.1\n",
      " 30.46 21.3  30.58 29.44 21.26 33.14 15.54 19.28 17.62 23.76 25.82 21.64\n",
      " 25.3  26.58 22.72  9.74 38.16 23.78 25.58 20.64 21.92 18.4  18.56 37.82\n",
      " 36.46 26.14 23.62 12.56 32.08 21.66 25.7  12.16 27.08 25.42 27.2  22.16\n",
      " 10.54 27.08 12.2  21.78 28.84 19.66]\n"
     ]
    }
   ],
   "source": [
    "for k in [1,3,5]:\n",
    "    KNR=KNeighborsRegressor(k)\n",
    "    KNR.fit(train_x,train_y)\n",
    "    pred_test = KNR.predict(x_test)\n",
    "    print(\"predicted value for k={}: {}\".format(k,pred_test)) "
   ]
  },
  {
   "cell_type": "code",
   "execution_count": null,
   "metadata": {},
   "outputs": [],
   "source": []
  },
  {
   "cell_type": "code",
   "execution_count": null,
   "metadata": {},
   "outputs": [],
   "source": []
  },
  {
   "cell_type": "code",
   "execution_count": null,
   "metadata": {},
   "outputs": [],
   "source": []
  },
  {
   "cell_type": "code",
   "execution_count": null,
   "metadata": {},
   "outputs": [],
   "source": []
  },
  {
   "cell_type": "code",
   "execution_count": null,
   "metadata": {},
   "outputs": [],
   "source": []
  },
  {
   "cell_type": "code",
   "execution_count": null,
   "metadata": {},
   "outputs": [],
   "source": []
  },
  {
   "cell_type": "code",
   "execution_count": null,
   "metadata": {},
   "outputs": [],
   "source": []
  },
  {
   "cell_type": "code",
   "execution_count": null,
   "metadata": {},
   "outputs": [],
   "source": []
  },
  {
   "cell_type": "code",
   "execution_count": null,
   "metadata": {},
   "outputs": [],
   "source": []
  },
  {
   "cell_type": "code",
   "execution_count": null,
   "metadata": {},
   "outputs": [],
   "source": []
  },
  {
   "cell_type": "code",
   "execution_count": null,
   "metadata": {},
   "outputs": [],
   "source": []
  },
  {
   "cell_type": "code",
   "execution_count": null,
   "metadata": {},
   "outputs": [],
   "source": []
  },
  {
   "cell_type": "markdown",
   "metadata": {},
   "source": [
    "#  Thankyou. well done Regression part"
   ]
  },
  {
   "cell_type": "code",
   "execution_count": null,
   "metadata": {},
   "outputs": [],
   "source": []
  },
  {
   "cell_type": "code",
   "execution_count": null,
   "metadata": {},
   "outputs": [],
   "source": []
  },
  {
   "cell_type": "code",
   "execution_count": null,
   "metadata": {},
   "outputs": [],
   "source": []
  },
  {
   "cell_type": "code",
   "execution_count": null,
   "metadata": {},
   "outputs": [],
   "source": []
  },
  {
   "cell_type": "code",
   "execution_count": null,
   "metadata": {},
   "outputs": [],
   "source": []
  },
  {
   "cell_type": "code",
   "execution_count": null,
   "metadata": {},
   "outputs": [],
   "source": []
  },
  {
   "cell_type": "code",
   "execution_count": null,
   "metadata": {},
   "outputs": [],
   "source": []
  },
  {
   "cell_type": "code",
   "execution_count": null,
   "metadata": {},
   "outputs": [],
   "source": []
  },
  {
   "cell_type": "code",
   "execution_count": null,
   "metadata": {},
   "outputs": [],
   "source": []
  },
  {
   "cell_type": "code",
   "execution_count": null,
   "metadata": {},
   "outputs": [],
   "source": []
  },
  {
   "cell_type": "code",
   "execution_count": null,
   "metadata": {},
   "outputs": [],
   "source": []
  },
  {
   "cell_type": "code",
   "execution_count": null,
   "metadata": {},
   "outputs": [],
   "source": []
  }
 ],
 "metadata": {
  "kernelspec": {
   "display_name": "Python 3",
   "language": "python",
   "name": "python3"
  },
  "language_info": {
   "codemirror_mode": {
    "name": "ipython",
    "version": 3
   },
   "file_extension": ".py",
   "mimetype": "text/x-python",
   "name": "python",
   "nbconvert_exporter": "python",
   "pygments_lexer": "ipython3",
   "version": "3.6.5"
  }
 },
 "nbformat": 4,
 "nbformat_minor": 2
}
